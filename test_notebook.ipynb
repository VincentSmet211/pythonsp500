{
 "cells": [
  {
   "cell_type": "code",
   "execution_count": 1,
   "metadata": {},
   "outputs": [],
   "source": [
    "import pandas as pd\n",
    "# import pandas_gbq\n",
    "import numpy as np\n",
    "import datetime\n",
    "import matplotlib.pyplot as plt\n",
    "from pandas.tseries.offsets import BDay\n",
    "from pandas_datareader import data as pdr\n",
    "import yfinance as yf\n"
   ]
  },
  {
   "cell_type": "code",
   "execution_count": 2,
   "metadata": {},
   "outputs": [],
   "source": [
    "import main as m"
   ]
  },
  {
   "cell_type": "code",
   "execution_count": 3,
   "metadata": {},
   "outputs": [],
   "source": [
    "x =1\n",
    "d = m.hello(x)"
   ]
  },
  {
   "cell_type": "markdown",
   "metadata": {},
   "source": [
    "d"
   ]
  },
  {
   "cell_type": "code",
   "execution_count": 5,
   "metadata": {},
   "outputs": [
    {
     "output_type": "execute_result",
     "data": {
      "text/plain": "Ticker                  GOOGLZENORSTED.COUMI.BRRDSA.ASBAS.DEVOW3.DEABI...\nQuantity                                                               41\nUnit_Cost                                                         1649.03\nCurrency                                      USDUSDDKKEUREUREUREUREURUSD\nTransaction_Cost                                                  118.403\nCost_Basis                                                        3490.11\nTicker_Adj_Close                                                  1772.56\nDividends                                                          27.476\nticker_return_%                                                 -0.575735\nTicker_Share_Value                                                3609.97\nStock_Gain__Loss_EUR                                              119.866\nCum_Invst                                                           20967\nCum_Ticker_Returns                                                23526.6\nCum_Ticker_ROI_Mult                                               10.2916\ndtype: object"
     },
     "metadata": {},
     "execution_count": 5
    }
   ],
   "source": [
    "d.sum()"
   ]
  },
  {
   "cell_type": "code",
   "execution_count": null,
   "metadata": {},
   "outputs": [],
   "source": []
  }
 ],
 "metadata": {
  "language_info": {
   "codemirror_mode": {
    "name": "ipython",
    "version": 3
   },
   "file_extension": ".py",
   "mimetype": "text/x-python",
   "name": "python",
   "nbconvert_exporter": "python",
   "pygments_lexer": "ipython3",
   "version": "3.7.7-final"
  },
  "orig_nbformat": 2,
  "kernelspec": {
   "name": "python37764bittestcondac58852da58f54462b4aa243efbd5773a",
   "display_name": "Python 3.7.7 64-bit ('Test': conda)"
  }
 },
 "nbformat": 4,
 "nbformat_minor": 2
}