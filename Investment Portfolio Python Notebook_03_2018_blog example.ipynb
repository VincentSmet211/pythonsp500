{
 "cells": [
  {
   "cell_type": "markdown",
   "metadata": {},
   "source": [
    "**References:**  \n",
    "\n",
    "https://www.datacamp.com/community/tutorials/finance-python-trading\n",
    "\n",
    "https://github.com/datacamp/datacamp-community-tutorials/blob/master/Python%20Finance%20Tutorial%20For%20Beginners/Python%20For%20Finance%20Beginners%20Tutorial.ipynb\n",
    "\n",
    "https://pypi.python.org/pypi/fix-yahoo-finance\n",
    "\n",
    "http://www.learndatasci.com/python-finance-part-yahoo-finance-api-pandas-matplotlib/"
   ]
  },
  {
   "cell_type": "code",
   "execution_count": 1,
   "metadata": {},
   "outputs": [],
   "source": [
    "# Import initial libraries\n",
    "\n",
    "import pandas as pd\n",
    "import numpy as np\n",
    "import datetime\n",
    "import matplotlib.pyplot as plt\n",
    "%matplotlib inline\n",
    ""
   ]
  },
  {
   "cell_type": "code",
   "execution_count": 2,
   "metadata": {},
   "outputs": [
    {
     "output_type": "stream",
     "name": "stdout",
     "text": "4.6.0\n"
    },
    {
     "output_type": "display_data",
     "data": {
      "text/html": "        <script type=\"text/javascript\">\n        window.PlotlyConfig = {MathJaxConfig: 'local'};\n        if (window.MathJax) {MathJax.Hub.Config({SVG: {font: \"STIX-Web\"}});}\n        if (typeof require !== 'undefined') {\n        require.undef(\"plotly\");\n        requirejs.config({\n            paths: {\n                'plotly': ['https://cdn.plot.ly/plotly-latest.min']\n            }\n        });\n        require(['plotly'], function(Plotly) {\n            window._Plotly = Plotly;\n        });\n        }\n        </script>\n        "
     },
     "metadata": {}
    }
   ],
   "source": [
    "# Imports in order to be able to use Plotly offline.\n",
    "from plotly import __version__\n",
    "from plotly.offline import download_plotlyjs, init_notebook_mode, plot, iplot\n",
    "\n",
    "import plotly.graph_objs as go\n",
    "\n",
    "print(__version__) # requires version >= 1.9.0\n",
    "\n",
    "init_notebook_mode(connected=True)"
   ]
  },
  {
   "cell_type": "code",
   "execution_count": 3,
   "metadata": {},
   "outputs": [
    {
     "output_type": "execute_result",
     "data": {
      "text/plain": "  Acquisition Date Ticker  Quantity  Unit Cost  Cost Basis Currency  \\\n0       2018-09-28  GOOGL         1    1202.00     1202.00      USD   \n1       2018-09-28    ZEN         3      70.25      210.75      USD   \n\n   Transaction Cost  \n0             19.21  \n1             15.74  ",
      "text/html": "<div>\n<style scoped>\n    .dataframe tbody tr th:only-of-type {\n        vertical-align: middle;\n    }\n\n    .dataframe tbody tr th {\n        vertical-align: top;\n    }\n\n    .dataframe thead th {\n        text-align: right;\n    }\n</style>\n<table border=\"1\" class=\"dataframe\">\n  <thead>\n    <tr style=\"text-align: right;\">\n      <th></th>\n      <th>Acquisition Date</th>\n      <th>Ticker</th>\n      <th>Quantity</th>\n      <th>Unit Cost</th>\n      <th>Cost Basis</th>\n      <th>Currency</th>\n      <th>Transaction Cost</th>\n    </tr>\n  </thead>\n  <tbody>\n    <tr>\n      <th>0</th>\n      <td>2018-09-28</td>\n      <td>GOOGL</td>\n      <td>1</td>\n      <td>1202.00</td>\n      <td>1202.00</td>\n      <td>USD</td>\n      <td>19.21</td>\n    </tr>\n    <tr>\n      <th>1</th>\n      <td>2018-09-28</td>\n      <td>ZEN</td>\n      <td>3</td>\n      <td>70.25</td>\n      <td>210.75</td>\n      <td>USD</td>\n      <td>15.74</td>\n    </tr>\n  </tbody>\n</table>\n</div>"
     },
     "metadata": {},
     "execution_count": 3
    }
   ],
   "source": [
    "# Import the Sample worksheet with acquisition dates and initial cost basis:\n",
    "\n",
    "portfolio_df = pd.read_excel('Sample stocks acquisition dates_costs.xlsx')\n",
    "all_columns = ['Acquisition Date', 'Ticker','Quantity','Unit Cost', 'Cost Basis','Currency','Transaction Cost']\n",
    "all_rows = [\n",
    "    ['2018-09-28','GOOGL',1,1202,1202,'USD',19.21],\n",
    "    ['2018-09-28','ZEN',3,70.25,210.75,'USD',15.74]\n",
    "]\n",
    "portfolio_df = pd.DataFrame(all_rows, columns= all_columns)\n",
    "portfolio_df['Acquisition Date'].astype('datetime64[ns]')\n",
    "portfolio_df.head(10)"
   ]
  },
  {
   "cell_type": "code",
   "execution_count": 4,
   "metadata": {},
   "outputs": [
    {
     "output_type": "stream",
     "name": "stdout",
     "text": "<class 'pandas.core.frame.DataFrame'>\nRangeIndex: 2 entries, 0 to 1\nData columns (total 7 columns):\n #   Column            Non-Null Count  Dtype  \n---  ------            --------------  -----  \n 0   Acquisition Date  2 non-null      object \n 1   Ticker            2 non-null      object \n 2   Quantity          2 non-null      int64  \n 3   Unit Cost         2 non-null      float64\n 4   Cost Basis        2 non-null      float64\n 5   Currency          2 non-null      object \n 6   Transaction Cost  2 non-null      float64\ndtypes: float64(3), int64(1), object(3)\nmemory usage: 240.0+ bytes\n"
    }
   ],
   "source": [
    "# Confirm that you have 8 values for each column.\n",
    "\n",
    "portfolio_df.info()"
   ]
  },
  {
   "cell_type": "code",
   "execution_count": 5,
   "metadata": {
    "collapsed": true
   },
   "outputs": [
    {
     "output_type": "stream",
     "name": "stdout",
     "text": "2020-04-17\n"
    }
   ],
   "source": [
    "from pandas.tseries.offsets import BDay\n",
    "# Date Ranges for SP 500 and for all tickers\n",
    "start_sp = datetime.datetime(2018, 9, 28)\n",
    "end_sp = datetime.datetime.today().date()\n",
    "last_BD = (end_sp - BDay(1)).date()\n",
    "print(last_BD)"
   ]
  },
  {
   "cell_type": "code",
   "execution_count": 6,
   "metadata": {},
   "outputs": [
    {
     "output_type": "stream",
     "name": "stdout",
     "text": "[*********************100%***********************]  1 of 1 completed\n"
    },
    {
     "output_type": "execute_result",
     "data": {
      "text/plain": "                   Open         High          Low        Close    Adj Close  \\\nDate                                                                          \n2018-09-27  2911.649902  2927.219971  2909.270020  2914.000000  2914.000000   \n2018-09-28  2910.030029  2920.530029  2907.500000  2913.979980  2913.979980   \n2018-10-01  2926.290039  2937.060059  2917.909912  2924.590088  2924.590088   \n2018-10-02  2923.800049  2931.419922  2919.370117  2923.429932  2923.429932   \n2018-10-03  2931.689941  2939.860107  2921.360107  2925.510010  2925.510010   \n\n                Volume  \nDate                    \n2018-09-27  3060850000  \n2018-09-28  3432300000  \n2018-10-01  3364190000  \n2018-10-02  3401880000  \n2018-10-03  3598710000  ",
      "text/html": "<div>\n<style scoped>\n    .dataframe tbody tr th:only-of-type {\n        vertical-align: middle;\n    }\n\n    .dataframe tbody tr th {\n        vertical-align: top;\n    }\n\n    .dataframe thead th {\n        text-align: right;\n    }\n</style>\n<table border=\"1\" class=\"dataframe\">\n  <thead>\n    <tr style=\"text-align: right;\">\n      <th></th>\n      <th>Open</th>\n      <th>High</th>\n      <th>Low</th>\n      <th>Close</th>\n      <th>Adj Close</th>\n      <th>Volume</th>\n    </tr>\n    <tr>\n      <th>Date</th>\n      <th></th>\n      <th></th>\n      <th></th>\n      <th></th>\n      <th></th>\n      <th></th>\n    </tr>\n  </thead>\n  <tbody>\n    <tr>\n      <th>2018-09-27</th>\n      <td>2911.649902</td>\n      <td>2927.219971</td>\n      <td>2909.270020</td>\n      <td>2914.000000</td>\n      <td>2914.000000</td>\n      <td>3060850000</td>\n    </tr>\n    <tr>\n      <th>2018-09-28</th>\n      <td>2910.030029</td>\n      <td>2920.530029</td>\n      <td>2907.500000</td>\n      <td>2913.979980</td>\n      <td>2913.979980</td>\n      <td>3432300000</td>\n    </tr>\n    <tr>\n      <th>2018-10-01</th>\n      <td>2926.290039</td>\n      <td>2937.060059</td>\n      <td>2917.909912</td>\n      <td>2924.590088</td>\n      <td>2924.590088</td>\n      <td>3364190000</td>\n    </tr>\n    <tr>\n      <th>2018-10-02</th>\n      <td>2923.800049</td>\n      <td>2931.419922</td>\n      <td>2919.370117</td>\n      <td>2923.429932</td>\n      <td>2923.429932</td>\n      <td>3401880000</td>\n    </tr>\n    <tr>\n      <th>2018-10-03</th>\n      <td>2931.689941</td>\n      <td>2939.860107</td>\n      <td>2921.360107</td>\n      <td>2925.510010</td>\n      <td>2925.510010</td>\n      <td>3598710000</td>\n    </tr>\n  </tbody>\n</table>\n</div>"
     },
     "metadata": {},
     "execution_count": 6
    }
   ],
   "source": [
    "# Leveraged from the helpful Datacamp Python Finance trading blog post.\n",
    "\n",
    "from pandas_datareader import data as pdr\n",
    "import yfinance as yf\n",
    "yf.pdr_override() # <== that's all it takes :-)\n",
    "spp500 = yf.Ticker('^GSPC')\n",
    "sp500 = pdr.get_data_yahoo('^GSPC', \n",
    "                           start_sp,\n",
    "                             end_sp)\n",
    "\n",
    "                \n",
    "                          \n",
    "sp500.head()"
   ]
  },
  {
   "cell_type": "code",
   "execution_count": 7,
   "metadata": {
    "collapsed": true
   },
   "outputs": [],
   "source": [
    "# Create a dataframe with only the Adj Close column as that's all we need for this analysis.\n",
    "\n",
    "sp_500_adj_close = sp500[['Adj Close']].reset_index()"
   ]
  },
  {
   "cell_type": "code",
   "execution_count": 8,
   "metadata": {},
   "outputs": [
    {
     "output_type": "execute_result",
     "data": {
      "text/plain": "          Date    Adj Close\n386 2020-04-13  2761.629883\n387 2020-04-14  2846.060059\n388 2020-04-15  2783.360107\n389 2020-04-16  2799.550049\n390 2020-04-17  2874.560059",
      "text/html": "<div>\n<style scoped>\n    .dataframe tbody tr th:only-of-type {\n        vertical-align: middle;\n    }\n\n    .dataframe tbody tr th {\n        vertical-align: top;\n    }\n\n    .dataframe thead th {\n        text-align: right;\n    }\n</style>\n<table border=\"1\" class=\"dataframe\">\n  <thead>\n    <tr style=\"text-align: right;\">\n      <th></th>\n      <th>Date</th>\n      <th>Adj Close</th>\n    </tr>\n  </thead>\n  <tbody>\n    <tr>\n      <th>386</th>\n      <td>2020-04-13</td>\n      <td>2761.629883</td>\n    </tr>\n    <tr>\n      <th>387</th>\n      <td>2020-04-14</td>\n      <td>2846.060059</td>\n    </tr>\n    <tr>\n      <th>388</th>\n      <td>2020-04-15</td>\n      <td>2783.360107</td>\n    </tr>\n    <tr>\n      <th>389</th>\n      <td>2020-04-16</td>\n      <td>2799.550049</td>\n    </tr>\n    <tr>\n      <th>390</th>\n      <td>2020-04-17</td>\n      <td>2874.560059</td>\n    </tr>\n  </tbody>\n</table>\n</div>"
     },
     "metadata": {},
     "execution_count": 8
    }
   ],
   "source": [
    "sp_500_adj_close.tail()"
   ]
  },
  {
   "cell_type": "code",
   "execution_count": 9,
   "metadata": {},
   "outputs": [
    {
     "output_type": "execute_result",
     "data": {
      "text/plain": "array(['GOOGL', 'ZEN'], dtype=object)"
     },
     "metadata": {},
     "execution_count": 9
    }
   ],
   "source": [
    "# Generate a dynamic list of tickers to pull from Yahoo Finance API based on the imported file with tickers.\n",
    "tickers = portfolio_df['Ticker'].unique()\n",
    "tickers"
   ]
  },
  {
   "cell_type": "code",
   "execution_count": 10,
   "metadata": {},
   "outputs": [
    {
     "output_type": "stream",
     "name": "stdout",
     "text": "[*********************100%***********************]  1 of 1 completed\n[*********************100%***********************]  1 of 1 completed\n"
    },
    {
     "output_type": "execute_result",
     "data": {
      "text/plain": "                          Open         High          Low        Close  \\\nTicker Date                                                             \nGOOGL  2018-09-27  1200.000000  1216.859985  1198.050049  1207.359985   \n       2018-09-28  1204.089966  1208.449951  1197.829956  1207.079956   \n       2018-10-01  1213.000000  1224.199951  1203.189941  1208.530029   \n       2018-10-02  1206.670044  1224.520020  1199.660034  1207.640015   \n       2018-10-03  1212.000000  1214.180054  1202.150024  1211.530029   \n...                        ...          ...          ...          ...   \nZEN    2020-04-13    68.370003    68.598999    66.000000    67.980003   \n       2020-04-14    70.070000    70.919998    69.089996    69.720001   \n       2020-04-15    67.559998    69.385002    67.320000    68.849998   \n       2020-04-16    69.360001    70.339996    68.330002    68.889999   \n       2020-04-17    70.199997    73.190002    70.000000    73.180000   \n\n                     Adj Close   Volume  \nTicker Date                              \nGOOGL  2018-09-27  1207.359985  1813700  \n       2018-09-28  1207.079956  1780600  \n       2018-10-01  1208.530029  1658200  \n       2018-10-02  1207.640015  2009000  \n       2018-10-03  1211.530029  1312300  \n...                        ...      ...  \nZEN    2020-04-13    67.980003  1438400  \n       2020-04-14    69.720001  1150500  \n       2020-04-15    68.849998  1483900  \n       2020-04-16    68.889999  2061900  \n       2020-04-17    73.180000  1790100  \n\n[782 rows x 6 columns]",
      "text/html": "<div>\n<style scoped>\n    .dataframe tbody tr th:only-of-type {\n        vertical-align: middle;\n    }\n\n    .dataframe tbody tr th {\n        vertical-align: top;\n    }\n\n    .dataframe thead th {\n        text-align: right;\n    }\n</style>\n<table border=\"1\" class=\"dataframe\">\n  <thead>\n    <tr style=\"text-align: right;\">\n      <th></th>\n      <th></th>\n      <th>Open</th>\n      <th>High</th>\n      <th>Low</th>\n      <th>Close</th>\n      <th>Adj Close</th>\n      <th>Volume</th>\n    </tr>\n    <tr>\n      <th>Ticker</th>\n      <th>Date</th>\n      <th></th>\n      <th></th>\n      <th></th>\n      <th></th>\n      <th></th>\n      <th></th>\n    </tr>\n  </thead>\n  <tbody>\n    <tr>\n      <th rowspan=\"5\" valign=\"top\">GOOGL</th>\n      <th>2018-09-27</th>\n      <td>1200.000000</td>\n      <td>1216.859985</td>\n      <td>1198.050049</td>\n      <td>1207.359985</td>\n      <td>1207.359985</td>\n      <td>1813700</td>\n    </tr>\n    <tr>\n      <th>2018-09-28</th>\n      <td>1204.089966</td>\n      <td>1208.449951</td>\n      <td>1197.829956</td>\n      <td>1207.079956</td>\n      <td>1207.079956</td>\n      <td>1780600</td>\n    </tr>\n    <tr>\n      <th>2018-10-01</th>\n      <td>1213.000000</td>\n      <td>1224.199951</td>\n      <td>1203.189941</td>\n      <td>1208.530029</td>\n      <td>1208.530029</td>\n      <td>1658200</td>\n    </tr>\n    <tr>\n      <th>2018-10-02</th>\n      <td>1206.670044</td>\n      <td>1224.520020</td>\n      <td>1199.660034</td>\n      <td>1207.640015</td>\n      <td>1207.640015</td>\n      <td>2009000</td>\n    </tr>\n    <tr>\n      <th>2018-10-03</th>\n      <td>1212.000000</td>\n      <td>1214.180054</td>\n      <td>1202.150024</td>\n      <td>1211.530029</td>\n      <td>1211.530029</td>\n      <td>1312300</td>\n    </tr>\n    <tr>\n      <th>...</th>\n      <th>...</th>\n      <td>...</td>\n      <td>...</td>\n      <td>...</td>\n      <td>...</td>\n      <td>...</td>\n      <td>...</td>\n    </tr>\n    <tr>\n      <th rowspan=\"5\" valign=\"top\">ZEN</th>\n      <th>2020-04-13</th>\n      <td>68.370003</td>\n      <td>68.598999</td>\n      <td>66.000000</td>\n      <td>67.980003</td>\n      <td>67.980003</td>\n      <td>1438400</td>\n    </tr>\n    <tr>\n      <th>2020-04-14</th>\n      <td>70.070000</td>\n      <td>70.919998</td>\n      <td>69.089996</td>\n      <td>69.720001</td>\n      <td>69.720001</td>\n      <td>1150500</td>\n    </tr>\n    <tr>\n      <th>2020-04-15</th>\n      <td>67.559998</td>\n      <td>69.385002</td>\n      <td>67.320000</td>\n      <td>68.849998</td>\n      <td>68.849998</td>\n      <td>1483900</td>\n    </tr>\n    <tr>\n      <th>2020-04-16</th>\n      <td>69.360001</td>\n      <td>70.339996</td>\n      <td>68.330002</td>\n      <td>68.889999</td>\n      <td>68.889999</td>\n      <td>2061900</td>\n    </tr>\n    <tr>\n      <th>2020-04-17</th>\n      <td>70.199997</td>\n      <td>73.190002</td>\n      <td>70.000000</td>\n      <td>73.180000</td>\n      <td>73.180000</td>\n      <td>1790100</td>\n    </tr>\n  </tbody>\n</table>\n<p>782 rows × 6 columns</p>\n</div>"
     },
     "metadata": {},
     "execution_count": 10
    }
   ],
   "source": [
    "# Stock comparison code\n",
    "\n",
    "def get(tickers, startdate, enddate):\n",
    "    def data(ticker):\n",
    "        return (pdr.get_data_yahoo(ticker, start=startdate, end=enddate))\n",
    "    datas = map(data, tickers)\n",
    "    return(pd.concat(datas, keys=tickers, names=['Ticker', 'Date']))\n",
    "               \n",
    "all_data = get(tickers, start_sp, end_sp)\n",
    "all_data"
   ]
  },
  {
   "cell_type": "code",
   "execution_count": 11,
   "metadata": {},
   "outputs": [],
   "source": [
    "# Also only pulling the ticker, date and adj. close columns for our tickers.\n",
    "\n",
    "adj_close = all_data[['Adj Close']].reset_index()\n",
    "\n",
    "adj_close_latest = adj_close[adj_close['Date']==str(last_BD)]\n",
    "adj_close_latest.set_index('Ticker', inplace=True)\n",
    "portfolio_df.set_index(['Ticker'], inplace=True)"
   ]
  },
  {
   "cell_type": "code",
   "execution_count": 12,
   "metadata": {},
   "outputs": [
    {
     "output_type": "execute_result",
     "data": {
      "text/plain": "       Acquisition Date  Quantity  Unit Cost  Cost Basis Currency  \\\nTicker                                                              \nGOOGL        2018-09-28         1    1202.00     1202.00      USD   \nZEN          2018-09-28         3      70.25      210.75      USD   \n\n        Transaction Cost       Date  Adj Close  \nTicker                                          \nGOOGL              19.21 2020-04-17    1279.00  \nZEN                15.74 2020-04-17      73.18  ",
      "text/html": "<div>\n<style scoped>\n    .dataframe tbody tr th:only-of-type {\n        vertical-align: middle;\n    }\n\n    .dataframe tbody tr th {\n        vertical-align: top;\n    }\n\n    .dataframe thead th {\n        text-align: right;\n    }\n</style>\n<table border=\"1\" class=\"dataframe\">\n  <thead>\n    <tr style=\"text-align: right;\">\n      <th></th>\n      <th>Acquisition Date</th>\n      <th>Quantity</th>\n      <th>Unit Cost</th>\n      <th>Cost Basis</th>\n      <th>Currency</th>\n      <th>Transaction Cost</th>\n      <th>Date</th>\n      <th>Adj Close</th>\n    </tr>\n    <tr>\n      <th>Ticker</th>\n      <th></th>\n      <th></th>\n      <th></th>\n      <th></th>\n      <th></th>\n      <th></th>\n      <th></th>\n      <th></th>\n    </tr>\n  </thead>\n  <tbody>\n    <tr>\n      <th>GOOGL</th>\n      <td>2018-09-28</td>\n      <td>1</td>\n      <td>1202.00</td>\n      <td>1202.00</td>\n      <td>USD</td>\n      <td>19.21</td>\n      <td>2020-04-17</td>\n      <td>1279.00</td>\n    </tr>\n    <tr>\n      <th>ZEN</th>\n      <td>2018-09-28</td>\n      <td>3</td>\n      <td>70.25</td>\n      <td>210.75</td>\n      <td>USD</td>\n      <td>15.74</td>\n      <td>2020-04-17</td>\n      <td>73.18</td>\n    </tr>\n  </tbody>\n</table>\n</div>"
     },
     "metadata": {},
     "execution_count": 12
    }
   ],
   "source": [
    "# Merge the portfolio dataframe with the adj close dataframe; they are being joined by their indexes.portfolio_df.set_index(['Ticker'], inplace=True)\n",
    "merged_portfolio = pd.merge(portfolio_df, adj_close_latest, left_index=True, right_index=True)\n",
    "merged_portfolio.head()"
   ]
  },
  {
   "cell_type": "code",
   "execution_count": 13,
   "metadata": {},
   "outputs": [
    {
     "output_type": "execute_result",
     "data": {
      "text/plain": "       Acquisition Date  Quantity  Unit Cost  Cost Basis Currency  \\\nTicker                                                              \nGOOGL        2018-09-28         1    1202.00     1202.00      USD   \nZEN          2018-09-28         3      70.25      210.75      USD   \n\n        Transaction Cost       Date  Adj Close  ticker return  \nTicker                                                         \nGOOGL              19.21 2020-04-17    1279.00       0.064060  \nZEN                15.74 2020-04-17      73.18       0.041708  ",
      "text/html": "<div>\n<style scoped>\n    .dataframe tbody tr th:only-of-type {\n        vertical-align: middle;\n    }\n\n    .dataframe tbody tr th {\n        vertical-align: top;\n    }\n\n    .dataframe thead th {\n        text-align: right;\n    }\n</style>\n<table border=\"1\" class=\"dataframe\">\n  <thead>\n    <tr style=\"text-align: right;\">\n      <th></th>\n      <th>Acquisition Date</th>\n      <th>Quantity</th>\n      <th>Unit Cost</th>\n      <th>Cost Basis</th>\n      <th>Currency</th>\n      <th>Transaction Cost</th>\n      <th>Date</th>\n      <th>Adj Close</th>\n      <th>ticker return</th>\n    </tr>\n    <tr>\n      <th>Ticker</th>\n      <th></th>\n      <th></th>\n      <th></th>\n      <th></th>\n      <th></th>\n      <th></th>\n      <th></th>\n      <th></th>\n      <th></th>\n    </tr>\n  </thead>\n  <tbody>\n    <tr>\n      <th>GOOGL</th>\n      <td>2018-09-28</td>\n      <td>1</td>\n      <td>1202.00</td>\n      <td>1202.00</td>\n      <td>USD</td>\n      <td>19.21</td>\n      <td>2020-04-17</td>\n      <td>1279.00</td>\n      <td>0.064060</td>\n    </tr>\n    <tr>\n      <th>ZEN</th>\n      <td>2018-09-28</td>\n      <td>3</td>\n      <td>70.25</td>\n      <td>210.75</td>\n      <td>USD</td>\n      <td>15.74</td>\n      <td>2020-04-17</td>\n      <td>73.18</td>\n      <td>0.041708</td>\n    </tr>\n  </tbody>\n</table>\n</div>"
     },
     "metadata": {},
     "execution_count": 13
    }
   ],
   "source": [
    "# The below creates a new column which is the ticker return; takes the latest adjusted close for each position\n",
    "# and divides that by the initial share cost.\n",
    "\n",
    "merged_portfolio['ticker return'] = merged_portfolio['Adj Close'] / merged_portfolio['Unit Cost'] - 1\n",
    "\n",
    "merged_portfolio"
   ]
  },
  {
   "cell_type": "code",
   "execution_count": 14,
   "metadata": {
    "collapsed": true
   },
   "outputs": [
    {
     "output_type": "stream",
     "name": "stdout",
     "text": "Acquisition Date  Quantity  Unit Cost  Cost Basis Currency  \\\nTicker                                                              \nGOOGL        2018-09-28         1    1202.00     1202.00      USD   \nZEN          2018-09-28         3      70.25      210.75      USD   \n\n        Transaction Cost       Date  Adj Close  ticker return  \nTicker                                                         \nGOOGL              19.21 2020-04-17    1279.00       0.064060  \nZEN                15.74 2020-04-17      73.18       0.041708  \n"
    }
   ],
   "source": [
    "# merged_portfolio.reset_index(inplace=True)\n",
    "print(merged_portfolio)\n",
    "merged_portfolio['Acquisition Date'] = merged_portfolio['Acquisition Date'].astype('datetime64[ns]')\n",
    ""
   ]
  },
  {
   "cell_type": "code",
   "execution_count": 15,
   "metadata": {},
   "outputs": [
    {
     "output_type": "execute_result",
     "data": {
      "text/plain": "  Acquisition Date  Quantity  Unit Cost  Cost Basis Currency  \\\n0       2018-09-28         1    1202.00     1202.00      USD   \n1       2018-09-28         3      70.25      210.75      USD   \n\n   Transaction Cost Latest Date  Ticker Adj Close  ticker return  \\\n0             19.21  2020-04-17           1279.00       0.064060   \n1             15.74  2020-04-17             73.18       0.041708   \n\n   SP 500 Initial Close  \n0            2913.97998  \n1            2913.97998  ",
      "text/html": "<div>\n<style scoped>\n    .dataframe tbody tr th:only-of-type {\n        vertical-align: middle;\n    }\n\n    .dataframe tbody tr th {\n        vertical-align: top;\n    }\n\n    .dataframe thead th {\n        text-align: right;\n    }\n</style>\n<table border=\"1\" class=\"dataframe\">\n  <thead>\n    <tr style=\"text-align: right;\">\n      <th></th>\n      <th>Acquisition Date</th>\n      <th>Quantity</th>\n      <th>Unit Cost</th>\n      <th>Cost Basis</th>\n      <th>Currency</th>\n      <th>Transaction Cost</th>\n      <th>Latest Date</th>\n      <th>Ticker Adj Close</th>\n      <th>ticker return</th>\n      <th>SP 500 Initial Close</th>\n    </tr>\n  </thead>\n  <tbody>\n    <tr>\n      <th>0</th>\n      <td>2018-09-28</td>\n      <td>1</td>\n      <td>1202.00</td>\n      <td>1202.00</td>\n      <td>USD</td>\n      <td>19.21</td>\n      <td>2020-04-17</td>\n      <td>1279.00</td>\n      <td>0.064060</td>\n      <td>2913.97998</td>\n    </tr>\n    <tr>\n      <th>1</th>\n      <td>2018-09-28</td>\n      <td>3</td>\n      <td>70.25</td>\n      <td>210.75</td>\n      <td>USD</td>\n      <td>15.74</td>\n      <td>2020-04-17</td>\n      <td>73.18</td>\n      <td>0.041708</td>\n      <td>2913.97998</td>\n    </tr>\n  </tbody>\n</table>\n</div>"
     },
     "metadata": {},
     "execution_count": 15
    }
   ],
   "source": [
    "# Here we are merging the new dataframe with the sp500 adjusted closes since the sp start price based on \n",
    "# each ticker's acquisition date and sp500 close date.\n",
    "merged_portfolio.dtypes\n",
    "merged_portfolio_sp = pd.merge(merged_portfolio, sp_500_adj_close, left_on='Acquisition Date', right_on='Date')\n",
    "del merged_portfolio_sp['Date_y']\n",
    "merged_portfolio_sp.rename(columns={'Date_x': 'Latest Date', 'Adj Close_x': 'Ticker Adj Close'\n",
    "                                    , 'Adj Close_y': 'SP 500 Initial Close'}, inplace=True)\n",
    "\n",
    "merged_portfolio_sp.head()"
   ]
  },
  {
   "cell_type": "code",
   "execution_count": 16,
   "metadata": {},
   "outputs": [
    {
     "output_type": "execute_result",
     "data": {
      "text/plain": "  Acquisition Date  Quantity  Unit Cost  Cost Basis Currency  \\\n0       2018-09-28         1    1202.00     1202.00      USD   \n1       2018-09-28         3      70.25      210.75      USD   \n\n   Transaction Cost Latest Date  Ticker Adj Close  ticker return  \\\n0             19.21  2020-04-17           1279.00       0.064060   \n1             15.74  2020-04-17             73.18       0.041708   \n\n   SP 500 Initial Close  Equiv SP Shares  \n0            2913.97998         0.412494  \n1            2913.97998         0.072324  ",
      "text/html": "<div>\n<style scoped>\n    .dataframe tbody tr th:only-of-type {\n        vertical-align: middle;\n    }\n\n    .dataframe tbody tr th {\n        vertical-align: top;\n    }\n\n    .dataframe thead th {\n        text-align: right;\n    }\n</style>\n<table border=\"1\" class=\"dataframe\">\n  <thead>\n    <tr style=\"text-align: right;\">\n      <th></th>\n      <th>Acquisition Date</th>\n      <th>Quantity</th>\n      <th>Unit Cost</th>\n      <th>Cost Basis</th>\n      <th>Currency</th>\n      <th>Transaction Cost</th>\n      <th>Latest Date</th>\n      <th>Ticker Adj Close</th>\n      <th>ticker return</th>\n      <th>SP 500 Initial Close</th>\n      <th>Equiv SP Shares</th>\n    </tr>\n  </thead>\n  <tbody>\n    <tr>\n      <th>0</th>\n      <td>2018-09-28</td>\n      <td>1</td>\n      <td>1202.00</td>\n      <td>1202.00</td>\n      <td>USD</td>\n      <td>19.21</td>\n      <td>2020-04-17</td>\n      <td>1279.00</td>\n      <td>0.064060</td>\n      <td>2913.97998</td>\n      <td>0.412494</td>\n    </tr>\n    <tr>\n      <th>1</th>\n      <td>2018-09-28</td>\n      <td>3</td>\n      <td>70.25</td>\n      <td>210.75</td>\n      <td>USD</td>\n      <td>15.74</td>\n      <td>2020-04-17</td>\n      <td>73.18</td>\n      <td>0.041708</td>\n      <td>2913.97998</td>\n      <td>0.072324</td>\n    </tr>\n  </tbody>\n</table>\n</div>"
     },
     "metadata": {},
     "execution_count": 16
    }
   ],
   "source": [
    "# This new column determines what SP 500 equivalent purchase would have been at purchase date of stock.\n",
    "merged_portfolio_sp['Equiv SP Shares'] = merged_portfolio_sp['Cost Basis'] / merged_portfolio_sp['SP 500 Initial Close']\n",
    "merged_portfolio_sp.head()"
   ]
  },
  {
   "cell_type": "code",
   "execution_count": 17,
   "metadata": {},
   "outputs": [
    {
     "output_type": "execute_result",
     "data": {
      "text/plain": "  Acquisition Date  Quantity  Unit Cost  Cost Basis Currency  \\\n0       2018-09-28         1    1202.00     1202.00      USD   \n1       2018-09-28         3      70.25      210.75      USD   \n\n   Transaction Cost Latest Date  Ticker Adj Close  ticker return  \\\n0             19.21  2020-04-17           1279.00       0.064060   \n1             15.74  2020-04-17             73.18       0.041708   \n\n   SP 500 Initial Close  Equiv SP Shares       Date    Adj Close  \n0            2913.97998         0.412494 2020-04-17  2874.560059  \n1            2913.97998         0.072324 2020-04-17  2874.560059  ",
      "text/html": "<div>\n<style scoped>\n    .dataframe tbody tr th:only-of-type {\n        vertical-align: middle;\n    }\n\n    .dataframe tbody tr th {\n        vertical-align: top;\n    }\n\n    .dataframe thead th {\n        text-align: right;\n    }\n</style>\n<table border=\"1\" class=\"dataframe\">\n  <thead>\n    <tr style=\"text-align: right;\">\n      <th></th>\n      <th>Acquisition Date</th>\n      <th>Quantity</th>\n      <th>Unit Cost</th>\n      <th>Cost Basis</th>\n      <th>Currency</th>\n      <th>Transaction Cost</th>\n      <th>Latest Date</th>\n      <th>Ticker Adj Close</th>\n      <th>ticker return</th>\n      <th>SP 500 Initial Close</th>\n      <th>Equiv SP Shares</th>\n      <th>Date</th>\n      <th>Adj Close</th>\n    </tr>\n  </thead>\n  <tbody>\n    <tr>\n      <th>0</th>\n      <td>2018-09-28</td>\n      <td>1</td>\n      <td>1202.00</td>\n      <td>1202.00</td>\n      <td>USD</td>\n      <td>19.21</td>\n      <td>2020-04-17</td>\n      <td>1279.00</td>\n      <td>0.064060</td>\n      <td>2913.97998</td>\n      <td>0.412494</td>\n      <td>2020-04-17</td>\n      <td>2874.560059</td>\n    </tr>\n    <tr>\n      <th>1</th>\n      <td>2018-09-28</td>\n      <td>3</td>\n      <td>70.25</td>\n      <td>210.75</td>\n      <td>USD</td>\n      <td>15.74</td>\n      <td>2020-04-17</td>\n      <td>73.18</td>\n      <td>0.041708</td>\n      <td>2913.97998</td>\n      <td>0.072324</td>\n      <td>2020-04-17</td>\n      <td>2874.560059</td>\n    </tr>\n  </tbody>\n</table>\n</div>"
     },
     "metadata": {},
     "execution_count": 17
    }
   ],
   "source": [
    "# We are joining the developing dataframe with the sp500 closes again, this time with the latest close for SP.\n",
    "merged_portfolio_sp_latest = pd.merge(merged_portfolio_sp, sp_500_adj_close, left_on='Latest Date', right_on='Date')\n",
    "del merged_portfolio_sp_latest['Date']\n",
    "merged_portfolio_sp_latest.rename(columns={'Adj Close': 'SP 500 Latest Close'}, inplace=True)\n",
    "\n",
    "merged_portfolio_sp_latest.head()"
   ]
  },
  {
   "cell_type": "code",
   "execution_count": 19,
   "metadata": {},
   "outputs": [
    {
     "output_type": "execute_result",
     "data": {
      "text/plain": "  Acquisition Date  Quantity  Unit Cost  Cost Basis Currency  \\\n0       2018-09-28         1    1202.00     1202.00      USD   \n1       2018-09-28         3      70.25      210.75      USD   \n\n   Transaction Cost Latest Date  Ticker Adj Close  ticker return  \\\n0             19.21  2020-04-17           1279.00       0.064060   \n1             15.74  2020-04-17             73.18       0.041708   \n\n   SP 500 Initial Close  Equiv SP Shares  SP 500 Latest Close  SP Return  \\\n0            2913.97998         0.412494          2874.560059  -0.013528   \n1            2913.97998         0.072324          2874.560059  -0.013528   \n\n   Abs. Return Compare  Ticker Share Value  SP 500 Value  Abs Value Compare  \\\n0             0.077588         1279.000000   1185.739509          93.260491   \n1             0.055236          219.540001    207.899003          11.640998   \n\n   Stock Gain / (Loss)  SP 500 Gain / (Loss)  \n0            77.000000            -16.260491  \n1             8.790001             -2.850997  ",
      "text/html": "<div>\n<style scoped>\n    .dataframe tbody tr th:only-of-type {\n        vertical-align: middle;\n    }\n\n    .dataframe tbody tr th {\n        vertical-align: top;\n    }\n\n    .dataframe thead th {\n        text-align: right;\n    }\n</style>\n<table border=\"1\" class=\"dataframe\">\n  <thead>\n    <tr style=\"text-align: right;\">\n      <th></th>\n      <th>Acquisition Date</th>\n      <th>Quantity</th>\n      <th>Unit Cost</th>\n      <th>Cost Basis</th>\n      <th>Currency</th>\n      <th>Transaction Cost</th>\n      <th>Latest Date</th>\n      <th>Ticker Adj Close</th>\n      <th>ticker return</th>\n      <th>SP 500 Initial Close</th>\n      <th>Equiv SP Shares</th>\n      <th>SP 500 Latest Close</th>\n      <th>SP Return</th>\n      <th>Abs. Return Compare</th>\n      <th>Ticker Share Value</th>\n      <th>SP 500 Value</th>\n      <th>Abs Value Compare</th>\n      <th>Stock Gain / (Loss)</th>\n      <th>SP 500 Gain / (Loss)</th>\n    </tr>\n  </thead>\n  <tbody>\n    <tr>\n      <th>0</th>\n      <td>2018-09-28</td>\n      <td>1</td>\n      <td>1202.00</td>\n      <td>1202.00</td>\n      <td>USD</td>\n      <td>19.21</td>\n      <td>2020-04-17</td>\n      <td>1279.00</td>\n      <td>0.064060</td>\n      <td>2913.97998</td>\n      <td>0.412494</td>\n      <td>2874.560059</td>\n      <td>-0.013528</td>\n      <td>0.077588</td>\n      <td>1279.000000</td>\n      <td>1185.739509</td>\n      <td>93.260491</td>\n      <td>77.000000</td>\n      <td>-16.260491</td>\n    </tr>\n    <tr>\n      <th>1</th>\n      <td>2018-09-28</td>\n      <td>3</td>\n      <td>70.25</td>\n      <td>210.75</td>\n      <td>USD</td>\n      <td>15.74</td>\n      <td>2020-04-17</td>\n      <td>73.18</td>\n      <td>0.041708</td>\n      <td>2913.97998</td>\n      <td>0.072324</td>\n      <td>2874.560059</td>\n      <td>-0.013528</td>\n      <td>0.055236</td>\n      <td>219.540001</td>\n      <td>207.899003</td>\n      <td>11.640998</td>\n      <td>8.790001</td>\n      <td>-2.850997</td>\n    </tr>\n  </tbody>\n</table>\n</div>"
     },
     "metadata": {},
     "execution_count": 19
    }
   ],
   "source": [
    "# Percent return of SP from acquisition date of position through latest trading day.\n",
    "merged_portfolio_sp_latest['SP Return'] = merged_portfolio_sp_latest['SP 500 Latest Close'] / merged_portfolio_sp_latest['SP 500 Initial Close'] - 1\n",
    "\n",
    "# This is a new column which takes the tickers return and subtracts the sp 500 equivalent range return.\n",
    "merged_portfolio_sp_latest['Abs. Return Compare'] = merged_portfolio_sp_latest['ticker return'] - merged_portfolio_sp_latest['SP Return']\n",
    "\n",
    "# This is a new column where we calculate the ticker's share value by multiplying the original quantity by the latest close.\n",
    "merged_portfolio_sp_latest['Ticker Share Value'] = merged_portfolio_sp_latest['Quantity'] * merged_portfolio_sp_latest['Ticker Adj Close']\n",
    "\n",
    "# We calculate the equivalent SP 500 Value if we take the original SP shares * the latest SP 500 share price.\n",
    "merged_portfolio_sp_latest['SP 500 Value'] = merged_portfolio_sp_latest['Equiv SP Shares'] * merged_portfolio_sp_latest['SP 500 Latest Close']\n",
    "\n",
    "# This is a new column where we take the current market value for the shares and subtract the SP 500 value.\n",
    "merged_portfolio_sp_latest['Abs Value Compare'] = merged_portfolio_sp_latest['Ticker Share Value'] - merged_portfolio_sp_latest['SP 500 Value']\n",
    "\n",
    "# This column calculates profit / loss for stock position.\n",
    "merged_portfolio_sp_latest['Stock Gain / (Loss)'] = merged_portfolio_sp_latest['Ticker Share Value'] - merged_portfolio_sp_latest['Cost Basis']\n",
    "\n",
    "# This column calculates profit / loss for SP 500.\n",
    "merged_portfolio_sp_latest['SP 500 Gain / (Loss)'] = merged_portfolio_sp_latest['SP 500 Value'] - merged_portfolio_sp_latest['Cost Basis']\n",
    "\n",
    "merged_portfolio_sp_latest.head()"
   ]
  },
  {
   "cell_type": "code",
   "execution_count": 20,
   "metadata": {},
   "outputs": [
    {
     "output_type": "execute_result",
     "data": {
      "text/plain": "  Acquisition Date  Quantity  Unit Cost  Cost Basis Currency  \\\n0       2018-09-28         1    1202.00     1202.00      USD   \n1       2018-09-28         3      70.25      210.75      USD   \n\n   Transaction Cost Latest Date  Ticker Adj Close  ticker return  \\\n0             19.21  2020-04-17           1279.00       0.064060   \n1             15.74  2020-04-17             73.18       0.041708   \n\n   SP 500 Initial Close  ...  Abs. Return Compare  Ticker Share Value  \\\n0            2913.97998  ...             0.077588         1279.000000   \n1            2913.97998  ...             0.055236          219.540001   \n\n   SP 500 Value  Abs Value Compare  Stock Gain / (Loss)  SP 500 Gain / (Loss)  \\\n0   1185.739509          93.260491            77.000000            -16.260491   \n1    207.899003          11.640998             8.790001             -2.850997   \n\n   Cum Invst  Cum Ticker Returns  Cum SP Returns  Cum Ticker ROI Mult  \n0    1202.00         1279.000000     1185.739509             1.064060  \n1    1412.75         1498.540001     1393.638512             1.060726  \n\n[2 rows x 23 columns]",
      "text/html": "<div>\n<style scoped>\n    .dataframe tbody tr th:only-of-type {\n        vertical-align: middle;\n    }\n\n    .dataframe tbody tr th {\n        vertical-align: top;\n    }\n\n    .dataframe thead th {\n        text-align: right;\n    }\n</style>\n<table border=\"1\" class=\"dataframe\">\n  <thead>\n    <tr style=\"text-align: right;\">\n      <th></th>\n      <th>Acquisition Date</th>\n      <th>Quantity</th>\n      <th>Unit Cost</th>\n      <th>Cost Basis</th>\n      <th>Currency</th>\n      <th>Transaction Cost</th>\n      <th>Latest Date</th>\n      <th>Ticker Adj Close</th>\n      <th>ticker return</th>\n      <th>SP 500 Initial Close</th>\n      <th>...</th>\n      <th>Abs. Return Compare</th>\n      <th>Ticker Share Value</th>\n      <th>SP 500 Value</th>\n      <th>Abs Value Compare</th>\n      <th>Stock Gain / (Loss)</th>\n      <th>SP 500 Gain / (Loss)</th>\n      <th>Cum Invst</th>\n      <th>Cum Ticker Returns</th>\n      <th>Cum SP Returns</th>\n      <th>Cum Ticker ROI Mult</th>\n    </tr>\n  </thead>\n  <tbody>\n    <tr>\n      <th>0</th>\n      <td>2018-09-28</td>\n      <td>1</td>\n      <td>1202.00</td>\n      <td>1202.00</td>\n      <td>USD</td>\n      <td>19.21</td>\n      <td>2020-04-17</td>\n      <td>1279.00</td>\n      <td>0.064060</td>\n      <td>2913.97998</td>\n      <td>...</td>\n      <td>0.077588</td>\n      <td>1279.000000</td>\n      <td>1185.739509</td>\n      <td>93.260491</td>\n      <td>77.000000</td>\n      <td>-16.260491</td>\n      <td>1202.00</td>\n      <td>1279.000000</td>\n      <td>1185.739509</td>\n      <td>1.064060</td>\n    </tr>\n    <tr>\n      <th>1</th>\n      <td>2018-09-28</td>\n      <td>3</td>\n      <td>70.25</td>\n      <td>210.75</td>\n      <td>USD</td>\n      <td>15.74</td>\n      <td>2020-04-17</td>\n      <td>73.18</td>\n      <td>0.041708</td>\n      <td>2913.97998</td>\n      <td>...</td>\n      <td>0.055236</td>\n      <td>219.540001</td>\n      <td>207.899003</td>\n      <td>11.640998</td>\n      <td>8.790001</td>\n      <td>-2.850997</td>\n      <td>1412.75</td>\n      <td>1498.540001</td>\n      <td>1393.638512</td>\n      <td>1.060726</td>\n    </tr>\n  </tbody>\n</table>\n<p>2 rows × 23 columns</p>\n</div>"
     },
     "metadata": {},
     "execution_count": 20
    }
   ],
   "source": [
    "# Cumulative sum of original investment\n",
    "merged_portfolio_sp_latest['Cum Invst'] = merged_portfolio_sp_latest['Cost Basis'].cumsum()\n",
    "\n",
    "# Cumulative sum of Ticker Share Value (latest FMV based on initial quantity purchased).\n",
    "merged_portfolio_sp_latest['Cum Ticker Returns'] = merged_portfolio_sp_latest['Ticker Share Value'].cumsum()\n",
    "\n",
    "# Cumulative sum of SP Share Value (latest FMV driven off of initial SP equiv purchase).\n",
    "merged_portfolio_sp_latest['Cum SP Returns'] = merged_portfolio_sp_latest['SP 500 Value'].cumsum()\n",
    "\n",
    "# Cumulative CoC multiple return for stock investments\n",
    "merged_portfolio_sp_latest['Cum Ticker ROI Mult'] = merged_portfolio_sp_latest['Cum Ticker Returns'] / merged_portfolio_sp_latest['Cum Invst']\n",
    "\n",
    "merged_portfolio_sp_latest.head()\n",
    ""
   ]
  },
  {
   "cell_type": "markdown",
   "metadata": {},
   "source": [
    "## Assessing Where Positions are At versus Highest Close"
   ]
  },
  {
   "cell_type": "code",
   "execution_count": 21,
   "metadata": {},
   "outputs": [
    {
     "output_type": "execute_result",
     "data": {
      "text/plain": "  Ticker       Date    Adj Close\n0  GOOGL 2018-09-27  1207.359985\n1  GOOGL 2018-09-28  1207.079956\n2  GOOGL 2018-10-01  1208.530029\n3  GOOGL 2018-10-02  1207.640015\n4  GOOGL 2018-10-03  1211.530029",
      "text/html": "<div>\n<style scoped>\n    .dataframe tbody tr th:only-of-type {\n        vertical-align: middle;\n    }\n\n    .dataframe tbody tr th {\n        vertical-align: top;\n    }\n\n    .dataframe thead th {\n        text-align: right;\n    }\n</style>\n<table border=\"1\" class=\"dataframe\">\n  <thead>\n    <tr style=\"text-align: right;\">\n      <th></th>\n      <th>Ticker</th>\n      <th>Date</th>\n      <th>Adj Close</th>\n    </tr>\n  </thead>\n  <tbody>\n    <tr>\n      <th>0</th>\n      <td>GOOGL</td>\n      <td>2018-09-27</td>\n      <td>1207.359985</td>\n    </tr>\n    <tr>\n      <th>1</th>\n      <td>GOOGL</td>\n      <td>2018-09-28</td>\n      <td>1207.079956</td>\n    </tr>\n    <tr>\n      <th>2</th>\n      <td>GOOGL</td>\n      <td>2018-10-01</td>\n      <td>1208.530029</td>\n    </tr>\n    <tr>\n      <th>3</th>\n      <td>GOOGL</td>\n      <td>2018-10-02</td>\n      <td>1207.640015</td>\n    </tr>\n    <tr>\n      <th>4</th>\n      <td>GOOGL</td>\n      <td>2018-10-03</td>\n      <td>1211.530029</td>\n    </tr>\n  </tbody>\n</table>\n</div>"
     },
     "metadata": {},
     "execution_count": 21
    }
   ],
   "source": [
    "# Referencing the adj_close dataframe from above\n",
    "\n",
    "adj_close.head()"
   ]
  },
  {
   "cell_type": "code",
   "execution_count": 22,
   "metadata": {},
   "outputs": [
    {
     "output_type": "execute_result",
     "data": {
      "text/plain": "       Acquisition Date  Quantity  Unit Cost  Cost Basis Currency  \\\nTicker                                                              \nGOOGL        2018-09-28         1    1202.00     1202.00      USD   \nZEN          2018-09-28         3      70.25      210.75      USD   \n\n        Transaction Cost  \nTicker                    \nGOOGL              19.21  \nZEN                15.74  ",
      "text/html": "<div>\n<style scoped>\n    .dataframe tbody tr th:only-of-type {\n        vertical-align: middle;\n    }\n\n    .dataframe tbody tr th {\n        vertical-align: top;\n    }\n\n    .dataframe thead th {\n        text-align: right;\n    }\n</style>\n<table border=\"1\" class=\"dataframe\">\n  <thead>\n    <tr style=\"text-align: right;\">\n      <th></th>\n      <th>Acquisition Date</th>\n      <th>Quantity</th>\n      <th>Unit Cost</th>\n      <th>Cost Basis</th>\n      <th>Currency</th>\n      <th>Transaction Cost</th>\n    </tr>\n    <tr>\n      <th>Ticker</th>\n      <th></th>\n      <th></th>\n      <th></th>\n      <th></th>\n      <th></th>\n      <th></th>\n    </tr>\n  </thead>\n  <tbody>\n    <tr>\n      <th>GOOGL</th>\n      <td>2018-09-28</td>\n      <td>1</td>\n      <td>1202.00</td>\n      <td>1202.00</td>\n      <td>USD</td>\n      <td>19.21</td>\n    </tr>\n    <tr>\n      <th>ZEN</th>\n      <td>2018-09-28</td>\n      <td>3</td>\n      <td>70.25</td>\n      <td>210.75</td>\n      <td>USD</td>\n      <td>15.74</td>\n    </tr>\n  </tbody>\n</table>\n</div>"
     },
     "metadata": {},
     "execution_count": 22
    }
   ],
   "source": [
    "portfolio_df.head()"
   ]
  },
  {
   "cell_type": "code",
   "execution_count": 23,
   "metadata": {},
   "outputs": [
    {
     "output_type": "execute_result",
     "data": {
      "text/plain": "  Ticker       Date    Adj Close Acquisition Date  Quantity  Unit Cost  \\\n0  GOOGL 2018-09-27  1207.359985       2018-09-28         1     1202.0   \n1  GOOGL 2018-09-28  1207.079956       2018-09-28         1     1202.0   \n2  GOOGL 2018-10-01  1208.530029       2018-09-28         1     1202.0   \n3  GOOGL 2018-10-02  1207.640015       2018-09-28         1     1202.0   \n4  GOOGL 2018-10-03  1211.530029       2018-09-28         1     1202.0   \n\n   Cost Basis Currency  Transaction Cost  \n0      1202.0      USD             19.21  \n1      1202.0      USD             19.21  \n2      1202.0      USD             19.21  \n3      1202.0      USD             19.21  \n4      1202.0      USD             19.21  ",
      "text/html": "<div>\n<style scoped>\n    .dataframe tbody tr th:only-of-type {\n        vertical-align: middle;\n    }\n\n    .dataframe tbody tr th {\n        vertical-align: top;\n    }\n\n    .dataframe thead th {\n        text-align: right;\n    }\n</style>\n<table border=\"1\" class=\"dataframe\">\n  <thead>\n    <tr style=\"text-align: right;\">\n      <th></th>\n      <th>Ticker</th>\n      <th>Date</th>\n      <th>Adj Close</th>\n      <th>Acquisition Date</th>\n      <th>Quantity</th>\n      <th>Unit Cost</th>\n      <th>Cost Basis</th>\n      <th>Currency</th>\n      <th>Transaction Cost</th>\n    </tr>\n  </thead>\n  <tbody>\n    <tr>\n      <th>0</th>\n      <td>GOOGL</td>\n      <td>2018-09-27</td>\n      <td>1207.359985</td>\n      <td>2018-09-28</td>\n      <td>1</td>\n      <td>1202.0</td>\n      <td>1202.0</td>\n      <td>USD</td>\n      <td>19.21</td>\n    </tr>\n    <tr>\n      <th>1</th>\n      <td>GOOGL</td>\n      <td>2018-09-28</td>\n      <td>1207.079956</td>\n      <td>2018-09-28</td>\n      <td>1</td>\n      <td>1202.0</td>\n      <td>1202.0</td>\n      <td>USD</td>\n      <td>19.21</td>\n    </tr>\n    <tr>\n      <th>2</th>\n      <td>GOOGL</td>\n      <td>2018-10-01</td>\n      <td>1208.530029</td>\n      <td>2018-09-28</td>\n      <td>1</td>\n      <td>1202.0</td>\n      <td>1202.0</td>\n      <td>USD</td>\n      <td>19.21</td>\n    </tr>\n    <tr>\n      <th>3</th>\n      <td>GOOGL</td>\n      <td>2018-10-02</td>\n      <td>1207.640015</td>\n      <td>2018-09-28</td>\n      <td>1</td>\n      <td>1202.0</td>\n      <td>1202.0</td>\n      <td>USD</td>\n      <td>19.21</td>\n    </tr>\n    <tr>\n      <th>4</th>\n      <td>GOOGL</td>\n      <td>2018-10-03</td>\n      <td>1211.530029</td>\n      <td>2018-09-28</td>\n      <td>1</td>\n      <td>1202.0</td>\n      <td>1202.0</td>\n      <td>USD</td>\n      <td>19.21</td>\n    </tr>\n  </tbody>\n</table>\n</div>"
     },
     "metadata": {},
     "execution_count": 23
    }
   ],
   "source": [
    "# Need to factor in that some positions were purchased much more recently than others.\n",
    "# Join adj_close dataframe with portfolio in order to have acquisition date.\n",
    "\n",
    "portfolio_df.reset_index(inplace=True)\n",
    "\n",
    "adj_close_acq_date = pd.merge(adj_close, portfolio_df, on='Ticker')\n",
    "\n",
    "adj_close_acq_date.head()"
   ]
  },
  {
   "cell_type": "code",
   "execution_count": 24,
   "metadata": {
    "collapsed": true
   },
   "outputs": [
    {
     "output_type": "execute_result",
     "data": {
      "text/plain": "    Ticker       Date    Adj Close Acquisition Date Currency  Transaction Cost\n0    GOOGL 2018-09-27  1207.359985       2018-09-28      USD             19.21\n1    GOOGL 2018-09-28  1207.079956       2018-09-28      USD             19.21\n2    GOOGL 2018-10-01  1208.530029       2018-09-28      USD             19.21\n3    GOOGL 2018-10-02  1207.640015       2018-09-28      USD             19.21\n4    GOOGL 2018-10-03  1211.530029       2018-09-28      USD             19.21\n..     ...        ...          ...              ...      ...               ...\n777    ZEN 2020-04-13    67.980003       2018-09-28      USD             15.74\n778    ZEN 2020-04-14    69.720001       2018-09-28      USD             15.74\n779    ZEN 2020-04-15    68.849998       2018-09-28      USD             15.74\n780    ZEN 2020-04-16    68.889999       2018-09-28      USD             15.74\n781    ZEN 2020-04-17    73.180000       2018-09-28      USD             15.74\n\n[782 rows x 6 columns]",
      "text/html": "<div>\n<style scoped>\n    .dataframe tbody tr th:only-of-type {\n        vertical-align: middle;\n    }\n\n    .dataframe tbody tr th {\n        vertical-align: top;\n    }\n\n    .dataframe thead th {\n        text-align: right;\n    }\n</style>\n<table border=\"1\" class=\"dataframe\">\n  <thead>\n    <tr style=\"text-align: right;\">\n      <th></th>\n      <th>Ticker</th>\n      <th>Date</th>\n      <th>Adj Close</th>\n      <th>Acquisition Date</th>\n      <th>Currency</th>\n      <th>Transaction Cost</th>\n    </tr>\n  </thead>\n  <tbody>\n    <tr>\n      <th>0</th>\n      <td>GOOGL</td>\n      <td>2018-09-27</td>\n      <td>1207.359985</td>\n      <td>2018-09-28</td>\n      <td>USD</td>\n      <td>19.21</td>\n    </tr>\n    <tr>\n      <th>1</th>\n      <td>GOOGL</td>\n      <td>2018-09-28</td>\n      <td>1207.079956</td>\n      <td>2018-09-28</td>\n      <td>USD</td>\n      <td>19.21</td>\n    </tr>\n    <tr>\n      <th>2</th>\n      <td>GOOGL</td>\n      <td>2018-10-01</td>\n      <td>1208.530029</td>\n      <td>2018-09-28</td>\n      <td>USD</td>\n      <td>19.21</td>\n    </tr>\n    <tr>\n      <th>3</th>\n      <td>GOOGL</td>\n      <td>2018-10-02</td>\n      <td>1207.640015</td>\n      <td>2018-09-28</td>\n      <td>USD</td>\n      <td>19.21</td>\n    </tr>\n    <tr>\n      <th>4</th>\n      <td>GOOGL</td>\n      <td>2018-10-03</td>\n      <td>1211.530029</td>\n      <td>2018-09-28</td>\n      <td>USD</td>\n      <td>19.21</td>\n    </tr>\n    <tr>\n      <th>...</th>\n      <td>...</td>\n      <td>...</td>\n      <td>...</td>\n      <td>...</td>\n      <td>...</td>\n      <td>...</td>\n    </tr>\n    <tr>\n      <th>777</th>\n      <td>ZEN</td>\n      <td>2020-04-13</td>\n      <td>67.980003</td>\n      <td>2018-09-28</td>\n      <td>USD</td>\n      <td>15.74</td>\n    </tr>\n    <tr>\n      <th>778</th>\n      <td>ZEN</td>\n      <td>2020-04-14</td>\n      <td>69.720001</td>\n      <td>2018-09-28</td>\n      <td>USD</td>\n      <td>15.74</td>\n    </tr>\n    <tr>\n      <th>779</th>\n      <td>ZEN</td>\n      <td>2020-04-15</td>\n      <td>68.849998</td>\n      <td>2018-09-28</td>\n      <td>USD</td>\n      <td>15.74</td>\n    </tr>\n    <tr>\n      <th>780</th>\n      <td>ZEN</td>\n      <td>2020-04-16</td>\n      <td>68.889999</td>\n      <td>2018-09-28</td>\n      <td>USD</td>\n      <td>15.74</td>\n    </tr>\n    <tr>\n      <th>781</th>\n      <td>ZEN</td>\n      <td>2020-04-17</td>\n      <td>73.180000</td>\n      <td>2018-09-28</td>\n      <td>USD</td>\n      <td>15.74</td>\n    </tr>\n  </tbody>\n</table>\n<p>782 rows × 6 columns</p>\n</div>"
     },
     "metadata": {},
     "execution_count": 24
    }
   ],
   "source": [
    "# delete_columns = ['Quantity', 'Unit Cost', 'Cost Basis', 'Start of Year']\n",
    "\n",
    "del adj_close_acq_date['Quantity']\n",
    "del adj_close_acq_date['Unit Cost']\n",
    "del adj_close_acq_date['Cost Basis']\n",
    "\n",
    "\n",
    "# Sort by these columns in this order in order to make it clearer where compare for each position should begin.\n",
    "adj_close_acq_date.sort_values(by=['Ticker', 'Acquisition Date', 'Date'], ascending=[True, True, True], inplace=True)\n",
    "adj_close_acq_date"
   ]
  },
  {
   "cell_type": "code",
   "execution_count": 25,
   "metadata": {},
   "outputs": [
    {
     "output_type": "execute_result",
     "data": {
      "text/plain": "  Ticker       Date    Adj Close Acquisition Date Currency  Transaction Cost  \\\n0  GOOGL 2018-09-27  1207.359985       2018-09-28      USD             19.21   \n1  GOOGL 2018-09-28  1207.079956       2018-09-28      USD             19.21   \n2  GOOGL 2018-10-01  1208.530029       2018-09-28      USD             19.21   \n3  GOOGL 2018-10-02  1207.640015       2018-09-28      USD             19.21   \n4  GOOGL 2018-10-03  1211.530029       2018-09-28      USD             19.21   \n\n        Date Delta  \n0  -86400000000000  \n1                0  \n2  259200000000000  \n3  345600000000000  \n4  432000000000000  ",
      "text/html": "<div>\n<style scoped>\n    .dataframe tbody tr th:only-of-type {\n        vertical-align: middle;\n    }\n\n    .dataframe tbody tr th {\n        vertical-align: top;\n    }\n\n    .dataframe thead th {\n        text-align: right;\n    }\n</style>\n<table border=\"1\" class=\"dataframe\">\n  <thead>\n    <tr style=\"text-align: right;\">\n      <th></th>\n      <th>Ticker</th>\n      <th>Date</th>\n      <th>Adj Close</th>\n      <th>Acquisition Date</th>\n      <th>Currency</th>\n      <th>Transaction Cost</th>\n      <th>Date Delta</th>\n    </tr>\n  </thead>\n  <tbody>\n    <tr>\n      <th>0</th>\n      <td>GOOGL</td>\n      <td>2018-09-27</td>\n      <td>1207.359985</td>\n      <td>2018-09-28</td>\n      <td>USD</td>\n      <td>19.21</td>\n      <td>-86400000000000</td>\n    </tr>\n    <tr>\n      <th>1</th>\n      <td>GOOGL</td>\n      <td>2018-09-28</td>\n      <td>1207.079956</td>\n      <td>2018-09-28</td>\n      <td>USD</td>\n      <td>19.21</td>\n      <td>0</td>\n    </tr>\n    <tr>\n      <th>2</th>\n      <td>GOOGL</td>\n      <td>2018-10-01</td>\n      <td>1208.530029</td>\n      <td>2018-09-28</td>\n      <td>USD</td>\n      <td>19.21</td>\n      <td>259200000000000</td>\n    </tr>\n    <tr>\n      <th>3</th>\n      <td>GOOGL</td>\n      <td>2018-10-02</td>\n      <td>1207.640015</td>\n      <td>2018-09-28</td>\n      <td>USD</td>\n      <td>19.21</td>\n      <td>345600000000000</td>\n    </tr>\n    <tr>\n      <th>4</th>\n      <td>GOOGL</td>\n      <td>2018-10-03</td>\n      <td>1211.530029</td>\n      <td>2018-09-28</td>\n      <td>USD</td>\n      <td>19.21</td>\n      <td>432000000000000</td>\n    </tr>\n  </tbody>\n</table>\n</div>"
     },
     "metadata": {},
     "execution_count": 25
    }
   ],
   "source": [
    "# Anything less than 0 means that the stock close was prior to acquisition.\n",
    "adj_close_acq_date['Date Delta'] = adj_close_acq_date['Date'] - adj_close_acq_date['Acquisition Date'].astype('datetime64[ns]')\n",
    "\n",
    "adj_close_acq_date['Date Delta'] = adj_close_acq_date[['Date Delta']].apply(pd.to_numeric)  \n",
    "\n",
    "adj_close_acq_date.head()"
   ]
  },
  {
   "cell_type": "code",
   "execution_count": 26,
   "metadata": {},
   "outputs": [
    {
     "output_type": "execute_result",
     "data": {
      "text/plain": "  Ticker       Date    Adj Close Acquisition Date Currency  Transaction Cost  \\\n1  GOOGL 2018-09-28  1207.079956       2018-09-28      USD             19.21   \n2  GOOGL 2018-10-01  1208.530029       2018-09-28      USD             19.21   \n3  GOOGL 2018-10-02  1207.640015       2018-09-28      USD             19.21   \n4  GOOGL 2018-10-03  1211.530029       2018-09-28      USD             19.21   \n5  GOOGL 2018-10-04  1177.069946       2018-09-28      USD             19.21   \n\n        Date Delta  \n1                0  \n2  259200000000000  \n3  345600000000000  \n4  432000000000000  \n5  518400000000000  ",
      "text/html": "<div>\n<style scoped>\n    .dataframe tbody tr th:only-of-type {\n        vertical-align: middle;\n    }\n\n    .dataframe tbody tr th {\n        vertical-align: top;\n    }\n\n    .dataframe thead th {\n        text-align: right;\n    }\n</style>\n<table border=\"1\" class=\"dataframe\">\n  <thead>\n    <tr style=\"text-align: right;\">\n      <th></th>\n      <th>Ticker</th>\n      <th>Date</th>\n      <th>Adj Close</th>\n      <th>Acquisition Date</th>\n      <th>Currency</th>\n      <th>Transaction Cost</th>\n      <th>Date Delta</th>\n    </tr>\n  </thead>\n  <tbody>\n    <tr>\n      <th>1</th>\n      <td>GOOGL</td>\n      <td>2018-09-28</td>\n      <td>1207.079956</td>\n      <td>2018-09-28</td>\n      <td>USD</td>\n      <td>19.21</td>\n      <td>0</td>\n    </tr>\n    <tr>\n      <th>2</th>\n      <td>GOOGL</td>\n      <td>2018-10-01</td>\n      <td>1208.530029</td>\n      <td>2018-09-28</td>\n      <td>USD</td>\n      <td>19.21</td>\n      <td>259200000000000</td>\n    </tr>\n    <tr>\n      <th>3</th>\n      <td>GOOGL</td>\n      <td>2018-10-02</td>\n      <td>1207.640015</td>\n      <td>2018-09-28</td>\n      <td>USD</td>\n      <td>19.21</td>\n      <td>345600000000000</td>\n    </tr>\n    <tr>\n      <th>4</th>\n      <td>GOOGL</td>\n      <td>2018-10-03</td>\n      <td>1211.530029</td>\n      <td>2018-09-28</td>\n      <td>USD</td>\n      <td>19.21</td>\n      <td>432000000000000</td>\n    </tr>\n    <tr>\n      <th>5</th>\n      <td>GOOGL</td>\n      <td>2018-10-04</td>\n      <td>1177.069946</td>\n      <td>2018-09-28</td>\n      <td>USD</td>\n      <td>19.21</td>\n      <td>518400000000000</td>\n    </tr>\n  </tbody>\n</table>\n</div>"
     },
     "metadata": {},
     "execution_count": 26
    }
   ],
   "source": [
    "# Modified the dataframe being evaluated to look at highest close which occurred after Acquisition Date (aka, not prior to purchase).\n",
    "\n",
    "adj_close_acq_date_modified = adj_close_acq_date[adj_close_acq_date['Date Delta']>=0]\n",
    "\n",
    "adj_close_acq_date_modified.head()"
   ]
  },
  {
   "cell_type": "code",
   "execution_count": 27,
   "metadata": {},
   "outputs": [
    {
     "output_type": "execute_result",
     "data": {
      "text/plain": "  Ticker Acquisition Date    Adj Close\n0  GOOGL       2018-09-28  1524.869995\n1    ZEN       2018-09-28    93.739998",
      "text/html": "<div>\n<style scoped>\n    .dataframe tbody tr th:only-of-type {\n        vertical-align: middle;\n    }\n\n    .dataframe tbody tr th {\n        vertical-align: top;\n    }\n\n    .dataframe thead th {\n        text-align: right;\n    }\n</style>\n<table border=\"1\" class=\"dataframe\">\n  <thead>\n    <tr style=\"text-align: right;\">\n      <th></th>\n      <th>Ticker</th>\n      <th>Acquisition Date</th>\n      <th>Adj Close</th>\n    </tr>\n  </thead>\n  <tbody>\n    <tr>\n      <th>0</th>\n      <td>GOOGL</td>\n      <td>2018-09-28</td>\n      <td>1524.869995</td>\n    </tr>\n    <tr>\n      <th>1</th>\n      <td>ZEN</td>\n      <td>2018-09-28</td>\n      <td>93.739998</td>\n    </tr>\n  </tbody>\n</table>\n</div>"
     },
     "metadata": {},
     "execution_count": 27
    }
   ],
   "source": [
    "# This pivot table will index on the Ticker and Acquisition Date, and find the max adjusted close.\n",
    "\n",
    "adj_close_pivot = adj_close_acq_date_modified.pivot_table(index=['Ticker', 'Acquisition Date'], values='Adj Close', aggfunc=np.max)\n",
    "\n",
    "adj_close_pivot.reset_index(inplace=True)\n",
    "\n",
    "adj_close_pivot"
   ]
  },
  {
   "cell_type": "code",
   "execution_count": 28,
   "metadata": {},
   "outputs": [
    {
     "output_type": "execute_result",
     "data": {
      "text/plain": "  Ticker Acquisition Date    Adj Close       Date\n0  GOOGL       2018-09-28  1524.869995 2020-02-19\n1    ZEN       2018-09-28    93.739998 2019-07-26",
      "text/html": "<div>\n<style scoped>\n    .dataframe tbody tr th:only-of-type {\n        vertical-align: middle;\n    }\n\n    .dataframe tbody tr th {\n        vertical-align: top;\n    }\n\n    .dataframe thead th {\n        text-align: right;\n    }\n</style>\n<table border=\"1\" class=\"dataframe\">\n  <thead>\n    <tr style=\"text-align: right;\">\n      <th></th>\n      <th>Ticker</th>\n      <th>Acquisition Date</th>\n      <th>Adj Close</th>\n      <th>Date</th>\n    </tr>\n  </thead>\n  <tbody>\n    <tr>\n      <th>0</th>\n      <td>GOOGL</td>\n      <td>2018-09-28</td>\n      <td>1524.869995</td>\n      <td>2020-02-19</td>\n    </tr>\n    <tr>\n      <th>1</th>\n      <td>ZEN</td>\n      <td>2018-09-28</td>\n      <td>93.739998</td>\n      <td>2019-07-26</td>\n    </tr>\n  </tbody>\n</table>\n</div>"
     },
     "metadata": {},
     "execution_count": 28
    }
   ],
   "source": [
    "# Merge the adj close pivot table with the adj_close table in order to grab the date of the Adj Close High (good to know).\n",
    "\n",
    "adj_close_pivot_merged = pd.merge(adj_close_pivot, adj_close\n",
    "                                             , on=['Ticker', 'Adj Close'])\n",
    "\n",
    "adj_close_pivot_merged.head()"
   ]
  },
  {
   "cell_type": "code",
   "execution_count": 29,
   "metadata": {},
   "outputs": [
    {
     "output_type": "error",
     "ename": "NameError",
     "evalue": "name 'merged_portfolio_sp_latest_YTD_sp' is not defined",
     "traceback": [
      "\u001b[0;31m---------------------------------------------------------------------------\u001b[0m",
      "\u001b[0;31mNameError\u001b[0m                                 Traceback (most recent call last)",
      "\u001b[0;32m<ipython-input-29-8b21c309e94c>\u001b[0m in \u001b[0;36m<module>\u001b[0;34m\u001b[0m\n\u001b[1;32m      1\u001b[0m \u001b[0;31m# Merge the Adj Close pivot table with the master dataframe to have the closing high since you have owned the stock.\u001b[0m\u001b[0;34m\u001b[0m\u001b[0;34m\u001b[0m\u001b[0;34m\u001b[0m\u001b[0m\n\u001b[1;32m      2\u001b[0m \u001b[0;34m\u001b[0m\u001b[0m\n\u001b[0;32m----> 3\u001b[0;31m merged_portfolio_sp_latest_YTD_sp_closing_high = pd.merge(merged_portfolio_sp_latest_YTD_sp, adj_close_pivot_merged\n\u001b[0m\u001b[1;32m      4\u001b[0m                                              , on=['Ticker', 'Acquisition Date'])\n\u001b[1;32m      5\u001b[0m \u001b[0;34m\u001b[0m\u001b[0m\n",
      "\u001b[0;31mNameError\u001b[0m: name 'merged_portfolio_sp_latest_YTD_sp' is not defined"
     ]
    }
   ],
   "source": [
    "# Merge the Adj Close pivot table with the master dataframe to have the closing high since you have owned the stock.\n",
    "\n",
    "merged_portfolio_sp_latest_YTD_sp_closing_high = pd.merge(merged_portfolio_sp_latest_YTD_sp, adj_close_pivot_merged\n",
    "                                             , on=['Ticker', 'Acquisition Date'])\n",
    "\n",
    "# Renaming so that it's clear that the new columns are two year closing high and two year closing high date.\n",
    "merged_portfolio_sp_latest_YTD_sp_closing_high.rename(columns={'Adj Close': 'Closing High Adj Close', 'Date': 'Closing High Adj Close Date'}, inplace=True)\n",
    "\n",
    "merged_portfolio_sp_latest_YTD_sp_closing_high['Pct off High'] = merged_portfolio_sp_latest_YTD_sp_closing_high['Ticker Adj Close'] / merged_portfolio_sp_latest_YTD_sp_closing_high['Closing High Adj Close'] - 1 \n",
    "\n",
    "merged_portfolio_sp_latest_YTD_sp_closing_high"
   ]
  },
  {
   "cell_type": "code",
   "execution_count": 30,
   "metadata": {
    "collapsed": true
   },
   "outputs": [],
   "source": [
    "# Not needed for this blog post -- this is if you have multiple positions for the same ticker with different acquisition dates.\n",
    "# merged_portfolio_sp_latest_YTD_sp_closing_high['Counts'] = merged_portfolio_sp_latest_YTD_sp_closing_high.index\n",
    "\n",
    "# merged_portfolio_sp_latest_YTD_sp_closing_high['Ticker #'] = merged_portfolio_sp_latest_YTD_sp_closing_high['Ticker'].map(str) + ' ' + merged_portfolio_sp_latest_YTD_sp_closing_high['Counts'].map(str)\n",
    "\n",
    "# merged_portfolio_sp_latest_YTD_sp_closing_high.head()"
   ]
  },
  {
   "cell_type": "markdown",
   "metadata": {},
   "source": [
    "## YTD and Trailing Stop Charts"
   ]
  },
  {
   "cell_type": "code",
   "execution_count": 31,
   "metadata": {},
   "outputs": [
    {
     "output_type": "error",
     "ename": "NameError",
     "evalue": "name 'merged_portfolio_sp_latest_YTD_sp' is not defined",
     "traceback": [
      "\u001b[0;31m---------------------------------------------------------------------------\u001b[0m",
      "\u001b[0;31mNameError\u001b[0m                                 Traceback (most recent call last)",
      "\u001b[0;32m<ipython-input-31-85a9b9fc13bc>\u001b[0m in \u001b[0;36m<module>\u001b[0;34m\u001b[0m\n\u001b[1;32m      2\u001b[0m \u001b[0;34m\u001b[0m\u001b[0m\n\u001b[1;32m      3\u001b[0m trace1 = go.Bar(\n\u001b[0;32m----> 4\u001b[0;31m     \u001b[0mx\u001b[0m \u001b[0;34m=\u001b[0m \u001b[0mmerged_portfolio_sp_latest_YTD_sp\u001b[0m\u001b[0;34m[\u001b[0m\u001b[0;34m'Ticker'\u001b[0m\u001b[0;34m]\u001b[0m\u001b[0;34m[\u001b[0m\u001b[0;36m0\u001b[0m\u001b[0;34m:\u001b[0m\u001b[0;36m10\u001b[0m\u001b[0;34m]\u001b[0m\u001b[0;34m,\u001b[0m\u001b[0;34m\u001b[0m\u001b[0;34m\u001b[0m\u001b[0m\n\u001b[0m\u001b[1;32m      5\u001b[0m     \u001b[0my\u001b[0m \u001b[0;34m=\u001b[0m \u001b[0mmerged_portfolio_sp_latest_YTD_sp\u001b[0m\u001b[0;34m[\u001b[0m\u001b[0;34m'Share YTD'\u001b[0m\u001b[0;34m]\u001b[0m\u001b[0;34m[\u001b[0m\u001b[0;36m0\u001b[0m\u001b[0;34m:\u001b[0m\u001b[0;36m10\u001b[0m\u001b[0;34m]\u001b[0m\u001b[0;34m,\u001b[0m\u001b[0;34m\u001b[0m\u001b[0;34m\u001b[0m\u001b[0m\n\u001b[1;32m      6\u001b[0m     name = 'Ticker YTD')\n",
      "\u001b[0;31mNameError\u001b[0m: name 'merged_portfolio_sp_latest_YTD_sp' is not defined"
     ]
    }
   ],
   "source": [
    "# Ploty is an outstanding resource for interactive charts.\n",
    "\n",
    "trace1 = go.Bar(\n",
    "    x = merged_portfolio_sp_latest_YTD_sp['Ticker'][0:10],\n",
    "    y = merged_portfolio_sp_latest_YTD_sp['Share YTD'][0:10],\n",
    "    name = 'Ticker YTD')\n",
    "\n",
    "trace2 = go.Scatter(\n",
    "    x = merged_portfolio_sp_latest_YTD_sp['Ticker'][0:10],\n",
    "    y = merged_portfolio_sp_latest_YTD_sp['SP 500 YTD'][0:10],\n",
    "    name = 'SP500 YTD')\n",
    "    \n",
    "data = [trace1, trace2]\n",
    "\n",
    "layout = go.Layout(title = 'YTD Return vs S&P 500 YTD'\n",
    "    , barmode = 'group'\n",
    "    , yaxis=dict(title='Returns', tickformat=\".2%\")\n",
    "    , xaxis=dict(title='Ticker')\n",
    "    , legend=dict(x=.8,y=1)\n",
    "    )\n",
    "\n",
    "fig = go.Figure(data=data, layout=layout)\n",
    "iplot(fig)"
   ]
  },
  {
   "cell_type": "code",
   "execution_count": 32,
   "metadata": {},
   "outputs": [
    {
     "output_type": "error",
     "ename": "NameError",
     "evalue": "name 'merged_portfolio_sp_latest_YTD_sp_closing_high' is not defined",
     "traceback": [
      "\u001b[0;31m---------------------------------------------------------------------------\u001b[0m",
      "\u001b[0;31mNameError\u001b[0m                                 Traceback (most recent call last)",
      "\u001b[0;32m<ipython-input-32-11bfa176ee4d>\u001b[0m in \u001b[0;36m<module>\u001b[0;34m\u001b[0m\n\u001b[1;32m      2\u001b[0m \u001b[0;32mimport\u001b[0m \u001b[0mnbformat\u001b[0m\u001b[0;34m\u001b[0m\u001b[0;34m\u001b[0m\u001b[0m\n\u001b[1;32m      3\u001b[0m trace1 = go.Bar(\n\u001b[0;32m----> 4\u001b[0;31m     \u001b[0mx\u001b[0m \u001b[0;34m=\u001b[0m \u001b[0mmerged_portfolio_sp_latest_YTD_sp_closing_high\u001b[0m\u001b[0;34m[\u001b[0m\u001b[0;34m'Ticker'\u001b[0m\u001b[0;34m]\u001b[0m\u001b[0;34m[\u001b[0m\u001b[0;36m0\u001b[0m\u001b[0;34m:\u001b[0m\u001b[0;36m10\u001b[0m\u001b[0;34m]\u001b[0m\u001b[0;34m,\u001b[0m\u001b[0;34m\u001b[0m\u001b[0;34m\u001b[0m\u001b[0m\n\u001b[0m\u001b[1;32m      5\u001b[0m     \u001b[0my\u001b[0m \u001b[0;34m=\u001b[0m \u001b[0mmerged_portfolio_sp_latest_YTD_sp_closing_high\u001b[0m\u001b[0;34m[\u001b[0m\u001b[0;34m'Pct off High'\u001b[0m\u001b[0;34m]\u001b[0m\u001b[0;34m[\u001b[0m\u001b[0;36m0\u001b[0m\u001b[0;34m:\u001b[0m\u001b[0;36m10\u001b[0m\u001b[0;34m]\u001b[0m\u001b[0;34m,\u001b[0m\u001b[0;34m\u001b[0m\u001b[0;34m\u001b[0m\u001b[0m\n\u001b[1;32m      6\u001b[0m     name = 'Pct off High')\n",
      "\u001b[0;31mNameError\u001b[0m: name 'merged_portfolio_sp_latest_YTD_sp_closing_high' is not defined"
     ]
    }
   ],
   "source": [
    "# Current Share Price versus Closing High Since Purchased\n",
    "import nbformat\n",
    "trace1 = go.Bar(\n",
    "    x = merged_portfolio_sp_latest_YTD_sp_closing_high['Ticker'][0:10],\n",
    "    y = merged_portfolio_sp_latest_YTD_sp_closing_high['Pct off High'][0:10],\n",
    "    name = 'Pct off High')\n",
    "    \n",
    "data = [trace1]\n",
    "\n",
    "layout = go.Layout(title = 'Adj Close % off of High'\n",
    "    , barmode = 'group'\n",
    "    , yaxis=dict(title='% Below Adj Close High', tickformat=\".2%\")\n",
    "    , xaxis=dict(title='Ticker')\n",
    "    , legend=dict(x=.8,y=1)\n",
    "    )\n",
    "\n",
    "fig = go.Figure(data=data, layout=layout)\n",
    "iplot(fig)"
   ]
  },
  {
   "cell_type": "markdown",
   "metadata": {},
   "source": [
    "## Total Return Comparison Charts"
   ]
  },
  {
   "cell_type": "code",
   "execution_count": 33,
   "metadata": {},
   "outputs": [
    {
     "output_type": "error",
     "ename": "NameError",
     "evalue": "name 'merged_portfolio_sp_latest_YTD_sp_closing_high' is not defined",
     "traceback": [
      "\u001b[0;31m---------------------------------------------------------------------------\u001b[0m",
      "\u001b[0;31mNameError\u001b[0m                                 Traceback (most recent call last)",
      "\u001b[0;32m<ipython-input-33-61a6896795b3>\u001b[0m in \u001b[0;36m<module>\u001b[0;34m\u001b[0m\n\u001b[1;32m      1\u001b[0m trace1 = go.Bar(\n\u001b[0;32m----> 2\u001b[0;31m     \u001b[0mx\u001b[0m \u001b[0;34m=\u001b[0m \u001b[0mmerged_portfolio_sp_latest_YTD_sp_closing_high\u001b[0m\u001b[0;34m[\u001b[0m\u001b[0;34m'Ticker'\u001b[0m\u001b[0;34m]\u001b[0m\u001b[0;34m[\u001b[0m\u001b[0;36m0\u001b[0m\u001b[0;34m:\u001b[0m\u001b[0;36m10\u001b[0m\u001b[0;34m]\u001b[0m\u001b[0;34m,\u001b[0m\u001b[0;34m\u001b[0m\u001b[0;34m\u001b[0m\u001b[0m\n\u001b[0m\u001b[1;32m      3\u001b[0m     \u001b[0my\u001b[0m \u001b[0;34m=\u001b[0m \u001b[0mmerged_portfolio_sp_latest_YTD_sp_closing_high\u001b[0m\u001b[0;34m[\u001b[0m\u001b[0;34m'ticker return'\u001b[0m\u001b[0;34m]\u001b[0m\u001b[0;34m[\u001b[0m\u001b[0;36m0\u001b[0m\u001b[0;34m:\u001b[0m\u001b[0;36m10\u001b[0m\u001b[0;34m]\u001b[0m\u001b[0;34m,\u001b[0m\u001b[0;34m\u001b[0m\u001b[0;34m\u001b[0m\u001b[0m\n\u001b[1;32m      4\u001b[0m     name = 'Ticker Total Return')\n\u001b[1;32m      5\u001b[0m \u001b[0;34m\u001b[0m\u001b[0m\n",
      "\u001b[0;31mNameError\u001b[0m: name 'merged_portfolio_sp_latest_YTD_sp_closing_high' is not defined"
     ]
    }
   ],
   "source": [
    "trace1 = go.Bar(\n",
    "    x = merged_portfolio_sp_latest_YTD_sp_closing_high['Ticker'][0:10],\n",
    "    y = merged_portfolio_sp_latest_YTD_sp_closing_high['ticker return'][0:10],\n",
    "    name = 'Ticker Total Return')\n",
    "\n",
    "trace2 = go.Scatter(\n",
    "    x = merged_portfolio_sp_latest_YTD_sp_closing_high['Ticker'][0:10],\n",
    "    y = merged_portfolio_sp_latest_YTD_sp_closing_high['SP Return'][0:10],\n",
    "    name = 'SP500 Total Return')\n",
    "    \n",
    "data = [trace1, trace2]\n",
    "\n",
    "layout = go.Layout(title = 'Total Return vs S&P 500'\n",
    "    , barmode = 'group'\n",
    "    , yaxis=dict(title='Returns', tickformat=\".2%\")\n",
    "    , xaxis=dict(title='Ticker', tickformat=\".2%\")\n",
    "    , legend=dict(x=.8,y=1)\n",
    "    )\n",
    "\n",
    "fig = go.Figure(data=data, layout=layout)\n",
    "iplot(fig)"
   ]
  },
  {
   "cell_type": "markdown",
   "metadata": {
    "collapsed": true
   },
   "source": [
    "## Cumulative Returns Over Time"
   ]
  },
  {
   "cell_type": "code",
   "execution_count": 34,
   "metadata": {},
   "outputs": [
    {
     "output_type": "error",
     "ename": "NameError",
     "evalue": "name 'merged_portfolio_sp_latest_YTD_sp_closing_high' is not defined",
     "traceback": [
      "\u001b[0;31m---------------------------------------------------------------------------\u001b[0m",
      "\u001b[0;31mNameError\u001b[0m                                 Traceback (most recent call last)",
      "\u001b[0;32m<ipython-input-34-cf1f787be58f>\u001b[0m in \u001b[0;36m<module>\u001b[0;34m\u001b[0m\n\u001b[1;32m      1\u001b[0m trace1 = go.Bar(\n\u001b[0;32m----> 2\u001b[0;31m     \u001b[0mx\u001b[0m \u001b[0;34m=\u001b[0m \u001b[0mmerged_portfolio_sp_latest_YTD_sp_closing_high\u001b[0m\u001b[0;34m[\u001b[0m\u001b[0;34m'Ticker'\u001b[0m\u001b[0;34m]\u001b[0m\u001b[0;34m[\u001b[0m\u001b[0;36m0\u001b[0m\u001b[0;34m:\u001b[0m\u001b[0;36m10\u001b[0m\u001b[0;34m]\u001b[0m\u001b[0;34m,\u001b[0m\u001b[0;34m\u001b[0m\u001b[0;34m\u001b[0m\u001b[0m\n\u001b[0m\u001b[1;32m      3\u001b[0m     \u001b[0my\u001b[0m \u001b[0;34m=\u001b[0m \u001b[0mmerged_portfolio_sp_latest_YTD_sp_closing_high\u001b[0m\u001b[0;34m[\u001b[0m\u001b[0;34m'Stock Gain / (Loss)'\u001b[0m\u001b[0;34m]\u001b[0m\u001b[0;34m[\u001b[0m\u001b[0;36m0\u001b[0m\u001b[0;34m:\u001b[0m\u001b[0;36m10\u001b[0m\u001b[0;34m]\u001b[0m\u001b[0;34m,\u001b[0m\u001b[0;34m\u001b[0m\u001b[0;34m\u001b[0m\u001b[0m\n\u001b[1;32m      4\u001b[0m     name = 'Ticker Total Return ($)')\n\u001b[1;32m      5\u001b[0m \u001b[0;34m\u001b[0m\u001b[0m\n",
      "\u001b[0;31mNameError\u001b[0m: name 'merged_portfolio_sp_latest_YTD_sp_closing_high' is not defined"
     ]
    }
   ],
   "source": [
    "trace1 = go.Bar(\n",
    "    x = merged_portfolio_sp_latest_YTD_sp_closing_high['Ticker'][0:10],\n",
    "    y = merged_portfolio_sp_latest_YTD_sp_closing_high['Stock Gain / (Loss)'][0:10],\n",
    "    name = 'Ticker Total Return ($)')\n",
    "\n",
    "trace2 = go.Bar(\n",
    "    x = merged_portfolio_sp_latest_YTD_sp_closing_high['Ticker'][0:10],\n",
    "    y = merged_portfolio_sp_latest_YTD_sp_closing_high['SP 500 Gain / (Loss)'][0:10],\n",
    "    name = 'SP 500 Total Return ($)')\n",
    "\n",
    "trace3 = go.Scatter(\n",
    "    x = merged_portfolio_sp_latest_YTD_sp_closing_high['Ticker'][0:10],\n",
    "    y = merged_portfolio_sp_latest_YTD_sp_closing_high['ticker return'][0:10],\n",
    "    name = 'Ticker Total Return %',\n",
    "    yaxis='y2')\n",
    "\n",
    "data = [trace1, trace2, trace3]\n",
    "\n",
    "layout = go.Layout(title = 'Gain / (Loss) Total Return vs S&P 500'\n",
    "    , barmode = 'group'\n",
    "    , yaxis=dict(title='Gain / (Loss) ($)')\n",
    "    , yaxis2=dict(title='Ticker Return', overlaying='y', side='right', tickformat=\".2%\")\n",
    "    , xaxis=dict(title='Ticker')\n",
    "    , legend=dict(x=.75,y=1)\n",
    "    )\n",
    "\n",
    "fig = go.Figure(data=data, layout=layout)\n",
    "iplot(fig)"
   ]
  },
  {
   "cell_type": "code",
   "execution_count": 35,
   "metadata": {},
   "outputs": [
    {
     "output_type": "error",
     "ename": "NameError",
     "evalue": "name 'merged_portfolio_sp_latest_YTD_sp_closing_high' is not defined",
     "traceback": [
      "\u001b[0;31m---------------------------------------------------------------------------\u001b[0m",
      "\u001b[0;31mNameError\u001b[0m                                 Traceback (most recent call last)",
      "\u001b[0;32m<ipython-input-35-7b48551e2321>\u001b[0m in \u001b[0;36m<module>\u001b[0;34m\u001b[0m\n\u001b[1;32m      1\u001b[0m trace1 = go.Bar(\n\u001b[0;32m----> 2\u001b[0;31m     \u001b[0mx\u001b[0m \u001b[0;34m=\u001b[0m \u001b[0mmerged_portfolio_sp_latest_YTD_sp_closing_high\u001b[0m\u001b[0;34m[\u001b[0m\u001b[0;34m'Ticker'\u001b[0m\u001b[0;34m]\u001b[0m\u001b[0;34m,\u001b[0m\u001b[0;34m\u001b[0m\u001b[0;34m\u001b[0m\u001b[0m\n\u001b[0m\u001b[1;32m      3\u001b[0m     \u001b[0my\u001b[0m \u001b[0;34m=\u001b[0m \u001b[0mmerged_portfolio_sp_latest_YTD_sp_closing_high\u001b[0m\u001b[0;34m[\u001b[0m\u001b[0;34m'Cum Invst'\u001b[0m\u001b[0;34m]\u001b[0m\u001b[0;34m,\u001b[0m\u001b[0;34m\u001b[0m\u001b[0;34m\u001b[0m\u001b[0m\n\u001b[1;32m      4\u001b[0m     \u001b[0;31m# mode = 'lines+markers',\u001b[0m\u001b[0;34m\u001b[0m\u001b[0;34m\u001b[0m\u001b[0;34m\u001b[0m\u001b[0m\n\u001b[1;32m      5\u001b[0m     name = 'Cum Invst')\n",
      "\u001b[0;31mNameError\u001b[0m: name 'merged_portfolio_sp_latest_YTD_sp_closing_high' is not defined"
     ]
    }
   ],
   "source": [
    "trace1 = go.Bar(\n",
    "    x = merged_portfolio_sp_latest_YTD_sp_closing_high['Ticker'],\n",
    "    y = merged_portfolio_sp_latest_YTD_sp_closing_high['Cum Invst'],\n",
    "    # mode = 'lines+markers',\n",
    "    name = 'Cum Invst')\n",
    "\n",
    "trace2 = go.Bar(\n",
    "    x = merged_portfolio_sp_latest_YTD_sp_closing_high['Ticker'],\n",
    "    y = merged_portfolio_sp_latest_YTD_sp_closing_high['Cum SP Returns'],\n",
    "    # mode = 'lines+markers',\n",
    "    name = 'Cum SP500 Returns')\n",
    "\n",
    "trace3 = go.Bar(\n",
    "    x = merged_portfolio_sp_latest_YTD_sp_closing_high['Ticker'],\n",
    "    y = merged_portfolio_sp_latest_YTD_sp_closing_high['Cum Ticker Returns'],\n",
    "    # mode = 'lines+markers',\n",
    "    name = 'Cum Ticker Returns')\n",
    "\n",
    "trace4 = go.Scatter(\n",
    "    x = merged_portfolio_sp_latest_YTD_sp_closing_high['Ticker'],\n",
    "    y = merged_portfolio_sp_latest_YTD_sp_closing_high['Cum Ticker ROI Mult'],\n",
    "    # mode = 'lines+markers',\n",
    "    name = 'Cum ROI Mult'\n",
    "    , yaxis='y2')\n",
    "\n",
    "\n",
    "data = [trace1, trace2, trace3, trace4]\n",
    "\n",
    "layout = go.Layout(title = 'Total Cumulative Investments Over Time'\n",
    "    , barmode = 'group'\n",
    "    , yaxis=dict(title='Returns')\n",
    "    , xaxis=dict(title='Ticker')\n",
    "    , legend=dict(x=.4,y=1)\n",
    "    , yaxis2=dict(title='Cum ROI Mult', overlaying='y', side='right')               \n",
    "    )\n",
    "\n",
    "fig = go.Figure(data=data, layout=layout)\n",
    "iplot(fig)"
   ]
  },
  {
   "cell_type": "code",
   "execution_count": null,
   "metadata": {
    "collapsed": true
   },
   "outputs": [],
   "source": []
  }
 ],
 "metadata": {
  "kernelspec": {
   "display_name": "Python 3.7.7 64-bit ('Test': conda)",
   "language": "python",
   "name": "python37764bittestcondac58852da58f54462b4aa243efbd5773a"
  },
  "language_info": {
   "codemirror_mode": {
    "name": "ipython",
    "version": 2
   },
   "file_extension": ".py",
   "mimetype": "text/x-python",
   "name": "python",
   "nbconvert_exporter": "python",
   "pygments_lexer": "ipython2",
   "version": "3.7.7-final"
  }
 },
 "nbformat": 4,
 "nbformat_minor": 2
}