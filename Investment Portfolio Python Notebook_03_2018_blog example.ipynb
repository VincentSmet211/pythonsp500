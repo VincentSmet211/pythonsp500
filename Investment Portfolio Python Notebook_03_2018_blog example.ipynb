{
 "cells": [
  {
   "cell_type": "markdown",
   "metadata": {},
   "source": [
    "**References:**  \n",
    "\n",
    "https://www.datacamp.com/community/tutorials/finance-python-trading\n",
    "\n",
    "https://github.com/datacamp/datacamp-community-tutorials/blob/master/Python%20Finance%20Tutorial%20For%20Beginners/Python%20For%20Finance%20Beginners%20Tutorial.ipynb\n",
    "\n",
    "https://pypi.python.org/pypi/fix-yahoo-finance\n",
    "\n",
    "http://www.learndatasci.com/python-finance-part-yahoo-finance-api-pandas-matplotlib/"
   ]
  },
  {
   "cell_type": "code",
   "execution_count": 4,
   "metadata": {},
   "outputs": [
    {
     "output_type": "error",
     "ename": "ModuleNotFoundError",
     "evalue": "No module named 'pandas_gbq'",
     "traceback": [
      "\u001b[0;31m---------------------------------------------------------------------------\u001b[0m",
      "\u001b[0;31mModuleNotFoundError\u001b[0m                       Traceback (most recent call last)",
      "\u001b[0;32m<ipython-input-4-0147fa1bed46>\u001b[0m in \u001b[0;36m<module>\u001b[0;34m\u001b[0m\n\u001b[1;32m      2\u001b[0m \u001b[0;34m\u001b[0m\u001b[0m\n\u001b[1;32m      3\u001b[0m \u001b[0;32mimport\u001b[0m \u001b[0mpandas\u001b[0m \u001b[0;32mas\u001b[0m \u001b[0mpd\u001b[0m\u001b[0;34m\u001b[0m\u001b[0;34m\u001b[0m\u001b[0m\n\u001b[0;32m----> 4\u001b[0;31m \u001b[0;32mimport\u001b[0m \u001b[0mpandas_gbq\u001b[0m\u001b[0;34m\u001b[0m\u001b[0;34m\u001b[0m\u001b[0m\n\u001b[0m\u001b[1;32m      5\u001b[0m \u001b[0;32mimport\u001b[0m \u001b[0mnumpy\u001b[0m \u001b[0;32mas\u001b[0m \u001b[0mnp\u001b[0m\u001b[0;34m\u001b[0m\u001b[0;34m\u001b[0m\u001b[0m\n\u001b[1;32m      6\u001b[0m \u001b[0;32mimport\u001b[0m \u001b[0mdatetime\u001b[0m\u001b[0;34m\u001b[0m\u001b[0;34m\u001b[0m\u001b[0m\n",
      "\u001b[0;31mModuleNotFoundError\u001b[0m: No module named 'pandas_gbq'"
     ]
    }
   ],
   "source": [
    "# Import initial libraries\n",
    "\n",
    "import pandas as pd\n",
    "# import pandas_gbq\n",
    "import numpy as np\n",
    "import datetime\n",
    "import matplotlib.pyplot as plt\n",
    "%matplotlib inline\n"
   ]
  },
  {
   "cell_type": "code",
   "execution_count": 11,
   "metadata": {},
   "outputs": [
    {
     "output_type": "error",
     "ename": "ValueError",
     "evalue": "Could not determine project ID and one was not supplied.",
     "traceback": [
      "\u001b[0;31m---------------------------------------------------------------------------\u001b[0m",
      "\u001b[0;31mValueError\u001b[0m                                Traceback (most recent call last)",
      "\u001b[0;32m<ipython-input-11-8ee75e3c934f>\u001b[0m in \u001b[0;36m<module>\u001b[0;34m\u001b[0m\n\u001b[1;32m      5\u001b[0m     \u001b[0mLIMIT\u001b[0m \u001b[0;36m100\u001b[0m\u001b[0;34m\u001b[0m\u001b[0;34m\u001b[0m\u001b[0m\n\u001b[1;32m      6\u001b[0m \"\"\"\n\u001b[0;32m----> 7\u001b[0;31m \u001b[0mdf\u001b[0m \u001b[0;34m=\u001b[0m \u001b[0mpd\u001b[0m\u001b[0;34m.\u001b[0m\u001b[0mread_gbq\u001b[0m\u001b[0;34m(\u001b[0m\u001b[0msql\u001b[0m\u001b[0;34m,\u001b[0m \u001b[0mdialect\u001b[0m\u001b[0;34m=\u001b[0m\u001b[0;34m'standard'\u001b[0m\u001b[0;34m)\u001b[0m\u001b[0;34m\u001b[0m\u001b[0;34m\u001b[0m\u001b[0m\n\u001b[0m",
      "\u001b[0;32m~/opt/anaconda3/envs/Test/lib/python3.7/site-packages/pandas/io/gbq.py\u001b[0m in \u001b[0;36mread_gbq\u001b[0;34m(query, project_id, index_col, col_order, reauth, auth_local_webserver, dialect, location, configuration, credentials, use_bqstorage_api, private_key, verbose, progress_bar_type)\u001b[0m\n\u001b[1;32m    184\u001b[0m         \u001b[0mconfiguration\u001b[0m\u001b[0;34m=\u001b[0m\u001b[0mconfiguration\u001b[0m\u001b[0;34m,\u001b[0m\u001b[0;34m\u001b[0m\u001b[0;34m\u001b[0m\u001b[0m\n\u001b[1;32m    185\u001b[0m         \u001b[0mcredentials\u001b[0m\u001b[0;34m=\u001b[0m\u001b[0mcredentials\u001b[0m\u001b[0;34m,\u001b[0m\u001b[0;34m\u001b[0m\u001b[0;34m\u001b[0m\u001b[0m\n\u001b[0;32m--> 186\u001b[0;31m         \u001b[0;34m**\u001b[0m\u001b[0mkwargs\u001b[0m\u001b[0;34m,\u001b[0m\u001b[0;34m\u001b[0m\u001b[0;34m\u001b[0m\u001b[0m\n\u001b[0m\u001b[1;32m    187\u001b[0m     )\n\u001b[1;32m    188\u001b[0m \u001b[0;34m\u001b[0m\u001b[0m\n",
      "\u001b[0;32m~/opt/anaconda3/envs/Test/lib/python3.7/site-packages/pandas_gbq/gbq.py\u001b[0m in \u001b[0;36mread_gbq\u001b[0;34m(query, project_id, index_col, col_order, reauth, auth_local_webserver, dialect, location, configuration, credentials, use_bqstorage_api, max_results, verbose, private_key, progress_bar_type)\u001b[0m\n\u001b[1;32m    991\u001b[0m         \u001b[0mcredentials\u001b[0m\u001b[0;34m=\u001b[0m\u001b[0mcredentials\u001b[0m\u001b[0;34m,\u001b[0m\u001b[0;34m\u001b[0m\u001b[0;34m\u001b[0m\u001b[0m\n\u001b[1;32m    992\u001b[0m         \u001b[0mprivate_key\u001b[0m\u001b[0;34m=\u001b[0m\u001b[0mprivate_key\u001b[0m\u001b[0;34m,\u001b[0m\u001b[0;34m\u001b[0m\u001b[0;34m\u001b[0m\u001b[0m\n\u001b[0;32m--> 993\u001b[0;31m         \u001b[0muse_bqstorage_api\u001b[0m\u001b[0;34m=\u001b[0m\u001b[0muse_bqstorage_api\u001b[0m\u001b[0;34m,\u001b[0m\u001b[0;34m\u001b[0m\u001b[0;34m\u001b[0m\u001b[0m\n\u001b[0m\u001b[1;32m    994\u001b[0m     )\n\u001b[1;32m    995\u001b[0m \u001b[0;34m\u001b[0m\u001b[0m\n",
      "\u001b[0;32m~/opt/anaconda3/envs/Test/lib/python3.7/site-packages/pandas_gbq/gbq.py\u001b[0m in \u001b[0;36m__init__\u001b[0;34m(self, project_id, reauth, private_key, auth_local_webserver, dialect, location, credentials, use_bqstorage_api)\u001b[0m\n\u001b[1;32m    351\u001b[0m         \u001b[0;32mif\u001b[0m \u001b[0mself\u001b[0m\u001b[0;34m.\u001b[0m\u001b[0mproject_id\u001b[0m \u001b[0;32mis\u001b[0m \u001b[0;32mNone\u001b[0m\u001b[0;34m:\u001b[0m\u001b[0;34m\u001b[0m\u001b[0;34m\u001b[0m\u001b[0m\n\u001b[1;32m    352\u001b[0m             raise ValueError(\n\u001b[0;32m--> 353\u001b[0;31m                 \u001b[0;34m\"Could not determine project ID and one was not supplied.\"\u001b[0m\u001b[0;34m\u001b[0m\u001b[0;34m\u001b[0m\u001b[0m\n\u001b[0m\u001b[1;32m    354\u001b[0m             )\n\u001b[1;32m    355\u001b[0m \u001b[0;34m\u001b[0m\u001b[0m\n",
      "\u001b[0;31mValueError\u001b[0m: Could not determine project ID and one was not supplied."
     ]
    }
   ],
   "source": [
    "sql = \"\"\"\n",
    "    SELECT name\n",
    "    FROM `bigquery-public-data.usa_names.usa_1910_current`\n",
    "    WHERE state = 'TX'\n",
    "    LIMIT 100\n",
    "\"\"\"\n",
    "df = pd.read_gbq(sql, dialect='standard')"
   ]
  },
  {
   "cell_type": "code",
   "execution_count": 2,
   "metadata": {},
   "outputs": [
    {
     "output_type": "stream",
     "name": "stdout",
     "text": "4.6.0\n"
    },
    {
     "output_type": "display_data",
     "data": {
      "text/html": "        <script type=\"text/javascript\">\n        window.PlotlyConfig = {MathJaxConfig: 'local'};\n        if (window.MathJax) {MathJax.Hub.Config({SVG: {font: \"STIX-Web\"}});}\n        if (typeof require !== 'undefined') {\n        require.undef(\"plotly\");\n        requirejs.config({\n            paths: {\n                'plotly': ['https://cdn.plot.ly/plotly-latest.min']\n            }\n        });\n        require(['plotly'], function(Plotly) {\n            window._Plotly = Plotly;\n        });\n        }\n        </script>\n        "
     },
     "metadata": {}
    }
   ],
   "source": [
    "# Imports in order to be able to use Plotly offline.\n",
    "from plotly import __version__\n",
    "from plotly.offline import download_plotlyjs, init_notebook_mode, plot, iplot\n",
    "\n",
    "import plotly.graph_objs as go\n",
    "\n",
    "print(__version__) # requires version >= 1.9.0\n",
    "\n",
    "init_notebook_mode(connected=True)"
   ]
  },
  {
   "cell_type": "code",
   "execution_count": 3,
   "metadata": {},
   "outputs": [
    {
     "output_type": "execute_result",
     "data": {
      "text/plain": "  Acquisition Date Ticker  Quantity  Unit Cost  Cost Basis Currency  \\\n0       2018-09-28  GOOGL         1    1202.00     1202.00      USD   \n1       2018-09-28    ZEN         3      70.25      210.75      USD   \n\n   Transaction Cost  \n0             19.21  \n1             15.74  ",
      "text/html": "<div>\n<style scoped>\n    .dataframe tbody tr th:only-of-type {\n        vertical-align: middle;\n    }\n\n    .dataframe tbody tr th {\n        vertical-align: top;\n    }\n\n    .dataframe thead th {\n        text-align: right;\n    }\n</style>\n<table border=\"1\" class=\"dataframe\">\n  <thead>\n    <tr style=\"text-align: right;\">\n      <th></th>\n      <th>Acquisition Date</th>\n      <th>Ticker</th>\n      <th>Quantity</th>\n      <th>Unit Cost</th>\n      <th>Cost Basis</th>\n      <th>Currency</th>\n      <th>Transaction Cost</th>\n    </tr>\n  </thead>\n  <tbody>\n    <tr>\n      <th>0</th>\n      <td>2018-09-28</td>\n      <td>GOOGL</td>\n      <td>1</td>\n      <td>1202.00</td>\n      <td>1202.00</td>\n      <td>USD</td>\n      <td>19.21</td>\n    </tr>\n    <tr>\n      <th>1</th>\n      <td>2018-09-28</td>\n      <td>ZEN</td>\n      <td>3</td>\n      <td>70.25</td>\n      <td>210.75</td>\n      <td>USD</td>\n      <td>15.74</td>\n    </tr>\n  </tbody>\n</table>\n</div>"
     },
     "metadata": {},
     "execution_count": 3
    }
   ],
   "source": [
    "# Import the Sample worksheet with acquisition dates and initial cost basis:\n",
    "\n",
    "portfolio_df = pd.read_excel('Sample stocks acquisition dates_costs.xlsx')\n",
    "all_columns = ['Acquisition Date', 'Ticker','Quantity','Unit Cost', 'Cost Basis','Currency','Transaction Cost']\n",
    "all_rows = [\n",
    "    ['2018-09-28','GOOGL',1,1202,1202,'USD',19.21],\n",
    "    ['2018-09-28','ZEN',3,70.25,210.75,'USD',15.74]\n",
    "]\n",
    "portfolio_df = pd.DataFrame(all_rows, columns= all_columns)\n",
    "portfolio_df['Acquisition Date'].astype('datetime64[ns]')\n",
    "portfolio_df.head(10)"
   ]
  },
  {
   "cell_type": "code",
   "execution_count": 4,
   "metadata": {},
   "outputs": [
    {
     "output_type": "stream",
     "name": "stdout",
     "text": "<class 'pandas.core.frame.DataFrame'>\nRangeIndex: 2 entries, 0 to 1\nData columns (total 7 columns):\n #   Column            Non-Null Count  Dtype  \n---  ------            --------------  -----  \n 0   Acquisition Date  2 non-null      object \n 1   Ticker            2 non-null      object \n 2   Quantity          2 non-null      int64  \n 3   Unit Cost         2 non-null      float64\n 4   Cost Basis        2 non-null      float64\n 5   Currency          2 non-null      object \n 6   Transaction Cost  2 non-null      float64\ndtypes: float64(3), int64(1), object(3)\nmemory usage: 240.0+ bytes\n"
    }
   ],
   "source": [
    "# Confirm that you have 8 values for each column.\n",
    "\n",
    "portfolio_df.info()"
   ]
  },
  {
   "cell_type": "code",
   "execution_count": 5,
   "metadata": {
    "collapsed": true
   },
   "outputs": [
    {
     "output_type": "stream",
     "name": "stdout",
     "text": "2020-05-01\n"
    }
   ],
   "source": [
    "from pandas.tseries.offsets import BDay\n",
    "# Date Ranges for SP 500 and for all tickers\n",
    "start_sp = datetime.datetime(2018, 9, 28)\n",
    "end_sp = datetime.datetime.today().date()\n",
    "last_BD = (end_sp - BDay(1)).date()\n",
    "print(last_BD)"
   ]
  },
  {
   "cell_type": "code",
   "execution_count": 6,
   "metadata": {},
   "outputs": [
    {
     "output_type": "stream",
     "name": "stdout",
     "text": "[*********************100%***********************]  1 of 1 completed\n"
    },
    {
     "output_type": "execute_result",
     "data": {
      "text/plain": "                   Open         High          Low        Close    Adj Close  \\\nDate                                                                          \n2018-09-27  2911.649902  2927.219971  2909.270020  2914.000000  2914.000000   \n2018-09-28  2910.030029  2920.530029  2907.500000  2913.979980  2913.979980   \n2018-10-01  2926.290039  2937.060059  2917.909912  2924.590088  2924.590088   \n2018-10-02  2923.800049  2931.419922  2919.370117  2923.429932  2923.429932   \n2018-10-03  2931.689941  2939.860107  2921.360107  2925.510010  2925.510010   \n\n                Volume  \nDate                    \n2018-09-27  3060850000  \n2018-09-28  3432300000  \n2018-10-01  3364190000  \n2018-10-02  3401880000  \n2018-10-03  3598710000  ",
      "text/html": "<div>\n<style scoped>\n    .dataframe tbody tr th:only-of-type {\n        vertical-align: middle;\n    }\n\n    .dataframe tbody tr th {\n        vertical-align: top;\n    }\n\n    .dataframe thead th {\n        text-align: right;\n    }\n</style>\n<table border=\"1\" class=\"dataframe\">\n  <thead>\n    <tr style=\"text-align: right;\">\n      <th></th>\n      <th>Open</th>\n      <th>High</th>\n      <th>Low</th>\n      <th>Close</th>\n      <th>Adj Close</th>\n      <th>Volume</th>\n    </tr>\n    <tr>\n      <th>Date</th>\n      <th></th>\n      <th></th>\n      <th></th>\n      <th></th>\n      <th></th>\n      <th></th>\n    </tr>\n  </thead>\n  <tbody>\n    <tr>\n      <th>2018-09-27</th>\n      <td>2911.649902</td>\n      <td>2927.219971</td>\n      <td>2909.270020</td>\n      <td>2914.000000</td>\n      <td>2914.000000</td>\n      <td>3060850000</td>\n    </tr>\n    <tr>\n      <th>2018-09-28</th>\n      <td>2910.030029</td>\n      <td>2920.530029</td>\n      <td>2907.500000</td>\n      <td>2913.979980</td>\n      <td>2913.979980</td>\n      <td>3432300000</td>\n    </tr>\n    <tr>\n      <th>2018-10-01</th>\n      <td>2926.290039</td>\n      <td>2937.060059</td>\n      <td>2917.909912</td>\n      <td>2924.590088</td>\n      <td>2924.590088</td>\n      <td>3364190000</td>\n    </tr>\n    <tr>\n      <th>2018-10-02</th>\n      <td>2923.800049</td>\n      <td>2931.419922</td>\n      <td>2919.370117</td>\n      <td>2923.429932</td>\n      <td>2923.429932</td>\n      <td>3401880000</td>\n    </tr>\n    <tr>\n      <th>2018-10-03</th>\n      <td>2931.689941</td>\n      <td>2939.860107</td>\n      <td>2921.360107</td>\n      <td>2925.510010</td>\n      <td>2925.510010</td>\n      <td>3598710000</td>\n    </tr>\n  </tbody>\n</table>\n</div>"
     },
     "metadata": {},
     "execution_count": 6
    }
   ],
   "source": [
    "# Leveraged from the helpful Datacamp Python Finance trading blog post.\n",
    "\n",
    "from pandas_datareader import data as pdr\n",
    "import yfinance as yf\n",
    "yf.pdr_override() # <== that's all it takes :-)\n",
    "spp500 = yf.Ticker('^GSPC')\n",
    "sp500 = pdr.get_data_yahoo('^GSPC', \n",
    "                           start_sp,\n",
    "                             end_sp)\n",
    "\n",
    "                \n",
    "sp500.head()"
   ]
  },
  {
   "cell_type": "code",
   "execution_count": 7,
   "metadata": {
    "collapsed": true
   },
   "outputs": [],
   "source": [
    "# Create a dataframe with only the Adj Close column as that's all we need for this analysis.\n",
    "\n",
    "sp_500_adj_close = sp500[['Adj Close']].reset_index()"
   ]
  },
  {
   "cell_type": "code",
   "execution_count": 8,
   "metadata": {},
   "outputs": [
    {
     "output_type": "execute_result",
     "data": {
      "text/plain": "                    Open   High    Low  Close    Volume  Dividends  \\\nTicker Date                                                          \nGOOGL  2004-08-19  50.05  52.08  48.03  50.22  44659000          0   \n       2004-08-20  50.56  54.59  50.30  54.21  22834300          0   \n       2004-08-23  55.43  56.80  54.58  54.75  18256100          0   \n       2004-08-24  55.68  55.86  51.84  52.49  15247300          0   \n       2004-08-25  52.53  54.05  51.99  53.05   9188600          0   \n\n                   Stock Splits  \nTicker Date                      \nGOOGL  2004-08-19           0.0  \n       2004-08-20           0.0  \n       2004-08-23           0.0  \n       2004-08-24           0.0  \n       2004-08-25           0.0  ",
      "text/html": "<div>\n<style scoped>\n    .dataframe tbody tr th:only-of-type {\n        vertical-align: middle;\n    }\n\n    .dataframe tbody tr th {\n        vertical-align: top;\n    }\n\n    .dataframe thead th {\n        text-align: right;\n    }\n</style>\n<table border=\"1\" class=\"dataframe\">\n  <thead>\n    <tr style=\"text-align: right;\">\n      <th></th>\n      <th></th>\n      <th>Open</th>\n      <th>High</th>\n      <th>Low</th>\n      <th>Close</th>\n      <th>Volume</th>\n      <th>Dividends</th>\n      <th>Stock Splits</th>\n    </tr>\n    <tr>\n      <th>Ticker</th>\n      <th>Date</th>\n      <th></th>\n      <th></th>\n      <th></th>\n      <th></th>\n      <th></th>\n      <th></th>\n      <th></th>\n    </tr>\n  </thead>\n  <tbody>\n    <tr>\n      <th rowspan=\"5\" valign=\"top\">GOOGL</th>\n      <th>2004-08-19</th>\n      <td>50.05</td>\n      <td>52.08</td>\n      <td>48.03</td>\n      <td>50.22</td>\n      <td>44659000</td>\n      <td>0</td>\n      <td>0.0</td>\n    </tr>\n    <tr>\n      <th>2004-08-20</th>\n      <td>50.56</td>\n      <td>54.59</td>\n      <td>50.30</td>\n      <td>54.21</td>\n      <td>22834300</td>\n      <td>0</td>\n      <td>0.0</td>\n    </tr>\n    <tr>\n      <th>2004-08-23</th>\n      <td>55.43</td>\n      <td>56.80</td>\n      <td>54.58</td>\n      <td>54.75</td>\n      <td>18256100</td>\n      <td>0</td>\n      <td>0.0</td>\n    </tr>\n    <tr>\n      <th>2004-08-24</th>\n      <td>55.68</td>\n      <td>55.86</td>\n      <td>51.84</td>\n      <td>52.49</td>\n      <td>15247300</td>\n      <td>0</td>\n      <td>0.0</td>\n    </tr>\n    <tr>\n      <th>2004-08-25</th>\n      <td>52.53</td>\n      <td>54.05</td>\n      <td>51.99</td>\n      <td>53.05</td>\n      <td>9188600</td>\n      <td>0</td>\n      <td>0.0</td>\n    </tr>\n  </tbody>\n</table>\n</div>"
     },
     "metadata": {},
     "execution_count": 8
    }
   ],
   "source": [
    "# Stock comparison code\n",
    "def get(tickers):\n",
    "    def data(ticker):\n",
    "        return yf.Ticker(ticker).history(period = \"max\")\n",
    "    datas = map(data, tickers)\n",
    "    return(pd.concat(datas, keys=tickers, names=['Ticker', 'Date']))\n",
    "\n",
    "tickers = portfolio_df['Ticker'].unique()          \n",
    "all_data = get(tickers)\n",
    "all_data.head()"
   ]
  },
  {
   "cell_type": "code",
   "execution_count": 9,
   "metadata": {},
   "outputs": [],
   "source": [
    "# Also only pulling the ticker, date and adj. close columns for our tickers.\n",
    "adj_close = all_data[['Close']].reset_index()\n",
    "adj_close = adj_close.rename(columns = {'Close' : 'Adj Close'})\n",
    "adj_close_latest = adj_close[adj_close['Date']==str(last_BD)]\n",
    "adj_close_latest.set_index('Ticker', inplace=True)\n",
    "portfolio_df.set_index(['Ticker'], inplace=True)"
   ]
  },
  {
   "cell_type": "code",
   "execution_count": 10,
   "metadata": {},
   "outputs": [
    {
     "output_type": "execute_result",
     "data": {
      "text/plain": "       Acquisition Date  Quantity  Unit Cost  Cost Basis Currency  \\\nTicker                                                              \nGOOGL        2018-09-28         1    1202.00     1202.00      USD   \nZEN          2018-09-28         3      70.25      210.75      USD   \n\n        Transaction Cost       Date  Adj Close  \nTicker                                          \nGOOGL              19.21 2020-05-01    1317.32  \nZEN                15.74 2020-05-01      72.55  ",
      "text/html": "<div>\n<style scoped>\n    .dataframe tbody tr th:only-of-type {\n        vertical-align: middle;\n    }\n\n    .dataframe tbody tr th {\n        vertical-align: top;\n    }\n\n    .dataframe thead th {\n        text-align: right;\n    }\n</style>\n<table border=\"1\" class=\"dataframe\">\n  <thead>\n    <tr style=\"text-align: right;\">\n      <th></th>\n      <th>Acquisition Date</th>\n      <th>Quantity</th>\n      <th>Unit Cost</th>\n      <th>Cost Basis</th>\n      <th>Currency</th>\n      <th>Transaction Cost</th>\n      <th>Date</th>\n      <th>Adj Close</th>\n    </tr>\n    <tr>\n      <th>Ticker</th>\n      <th></th>\n      <th></th>\n      <th></th>\n      <th></th>\n      <th></th>\n      <th></th>\n      <th></th>\n      <th></th>\n    </tr>\n  </thead>\n  <tbody>\n    <tr>\n      <th>GOOGL</th>\n      <td>2018-09-28</td>\n      <td>1</td>\n      <td>1202.00</td>\n      <td>1202.00</td>\n      <td>USD</td>\n      <td>19.21</td>\n      <td>2020-05-01</td>\n      <td>1317.32</td>\n    </tr>\n    <tr>\n      <th>ZEN</th>\n      <td>2018-09-28</td>\n      <td>3</td>\n      <td>70.25</td>\n      <td>210.75</td>\n      <td>USD</td>\n      <td>15.74</td>\n      <td>2020-05-01</td>\n      <td>72.55</td>\n    </tr>\n  </tbody>\n</table>\n</div>"
     },
     "metadata": {},
     "execution_count": 10
    }
   ],
   "source": [
    "# Merge the portfolio dataframe with the adj close dataframe; they are being joined by their indexes.portfolio_df.set_index(['Ticker'], inplace=True)\n",
    "merged_portfolio = pd.merge(portfolio_df, adj_close_latest, left_index=True, right_index=True)\n",
    "merged_portfolio.head()"
   ]
  },
  {
   "cell_type": "code",
   "execution_count": 11,
   "metadata": {},
   "outputs": [
    {
     "output_type": "execute_result",
     "data": {
      "text/plain": "       Acquisition Date  Quantity  Unit Cost  Cost Basis Currency  \\\nTicker                                                              \nGOOGL        2018-09-28         1    1202.00     1202.00      USD   \nZEN          2018-09-28         3      70.25      210.75      USD   \n\n        Transaction Cost       Date  Adj Close  ticker return  \nTicker                                                         \nGOOGL              19.21 2020-05-01    1317.32        0.09594  \nZEN                15.74 2020-05-01      72.55        0.03274  ",
      "text/html": "<div>\n<style scoped>\n    .dataframe tbody tr th:only-of-type {\n        vertical-align: middle;\n    }\n\n    .dataframe tbody tr th {\n        vertical-align: top;\n    }\n\n    .dataframe thead th {\n        text-align: right;\n    }\n</style>\n<table border=\"1\" class=\"dataframe\">\n  <thead>\n    <tr style=\"text-align: right;\">\n      <th></th>\n      <th>Acquisition Date</th>\n      <th>Quantity</th>\n      <th>Unit Cost</th>\n      <th>Cost Basis</th>\n      <th>Currency</th>\n      <th>Transaction Cost</th>\n      <th>Date</th>\n      <th>Adj Close</th>\n      <th>ticker return</th>\n    </tr>\n    <tr>\n      <th>Ticker</th>\n      <th></th>\n      <th></th>\n      <th></th>\n      <th></th>\n      <th></th>\n      <th></th>\n      <th></th>\n      <th></th>\n      <th></th>\n    </tr>\n  </thead>\n  <tbody>\n    <tr>\n      <th>GOOGL</th>\n      <td>2018-09-28</td>\n      <td>1</td>\n      <td>1202.00</td>\n      <td>1202.00</td>\n      <td>USD</td>\n      <td>19.21</td>\n      <td>2020-05-01</td>\n      <td>1317.32</td>\n      <td>0.09594</td>\n    </tr>\n    <tr>\n      <th>ZEN</th>\n      <td>2018-09-28</td>\n      <td>3</td>\n      <td>70.25</td>\n      <td>210.75</td>\n      <td>USD</td>\n      <td>15.74</td>\n      <td>2020-05-01</td>\n      <td>72.55</td>\n      <td>0.03274</td>\n    </tr>\n  </tbody>\n</table>\n</div>"
     },
     "metadata": {},
     "execution_count": 11
    }
   ],
   "source": [
    "# The below creates a new column which is the ticker return; takes the latest adjusted close for each position\n",
    "# and divides that by the initial share cost.\n",
    "merged_portfolio['ticker return'] = merged_portfolio['Adj Close'] / merged_portfolio['Unit Cost'] - 1\n",
    "merged_portfolio['Acquisition Date'] = merged_portfolio['Acquisition Date'].astype('datetime64[ns]')\n",
    "\n",
    "merged_portfolio"
   ]
  },
  {
   "cell_type": "code",
   "execution_count": 13,
   "metadata": {},
   "outputs": [
    {
     "output_type": "execute_result",
     "data": {
      "text/plain": "  Acquisition Date  Quantity  Unit Cost  Cost Basis Currency  \\\n0       2018-09-28         1    1202.00     1202.00      USD   \n1       2018-09-28         3      70.25      210.75      USD   \n\n   Transaction Cost Latest Date  Ticker Adj Close  ticker return  \\\n0             19.21  2020-05-01           1317.32        0.09594   \n1             15.74  2020-05-01             72.55        0.03274   \n\n   SP 500 Initial Close  \n0            2913.97998  \n1            2913.97998  ",
      "text/html": "<div>\n<style scoped>\n    .dataframe tbody tr th:only-of-type {\n        vertical-align: middle;\n    }\n\n    .dataframe tbody tr th {\n        vertical-align: top;\n    }\n\n    .dataframe thead th {\n        text-align: right;\n    }\n</style>\n<table border=\"1\" class=\"dataframe\">\n  <thead>\n    <tr style=\"text-align: right;\">\n      <th></th>\n      <th>Acquisition Date</th>\n      <th>Quantity</th>\n      <th>Unit Cost</th>\n      <th>Cost Basis</th>\n      <th>Currency</th>\n      <th>Transaction Cost</th>\n      <th>Latest Date</th>\n      <th>Ticker Adj Close</th>\n      <th>ticker return</th>\n      <th>SP 500 Initial Close</th>\n    </tr>\n  </thead>\n  <tbody>\n    <tr>\n      <th>0</th>\n      <td>2018-09-28</td>\n      <td>1</td>\n      <td>1202.00</td>\n      <td>1202.00</td>\n      <td>USD</td>\n      <td>19.21</td>\n      <td>2020-05-01</td>\n      <td>1317.32</td>\n      <td>0.09594</td>\n      <td>2913.97998</td>\n    </tr>\n    <tr>\n      <th>1</th>\n      <td>2018-09-28</td>\n      <td>3</td>\n      <td>70.25</td>\n      <td>210.75</td>\n      <td>USD</td>\n      <td>15.74</td>\n      <td>2020-05-01</td>\n      <td>72.55</td>\n      <td>0.03274</td>\n      <td>2913.97998</td>\n    </tr>\n  </tbody>\n</table>\n</div>"
     },
     "metadata": {},
     "execution_count": 13
    }
   ],
   "source": [
    "# Here we are merging the new dataframe with the sp500 adjusted closes since the sp start price based on \n",
    "# each ticker's acquisition date and sp500 close date.\n",
    "merged_portfolio.dtypes\n",
    "merged_portfolio_sp = pd.merge(merged_portfolio, sp_500_adj_close, left_on='Acquisition Date', right_on='Date')\n",
    "del merged_portfolio_sp['Date_y']\n",
    "merged_portfolio_sp.rename(columns={'Date_x': 'Latest Date', 'Adj Close_x': 'Ticker Adj Close'\n",
    "                                    , 'Adj Close_y': 'SP 500 Initial Close'}, inplace=True)\n",
    "merged_portfolio_sp.head()"
   ]
  },
  {
   "cell_type": "code",
   "execution_count": 14,
   "metadata": {},
   "outputs": [
    {
     "output_type": "execute_result",
     "data": {
      "text/plain": "  Acquisition Date  Quantity  Unit Cost  Cost Basis Currency  \\\n0       2018-09-28         1    1202.00     1202.00      USD   \n1       2018-09-28         3      70.25      210.75      USD   \n\n   Transaction Cost Latest Date  Ticker Adj Close  ticker return  \\\n0             19.21  2020-05-01           1317.32        0.09594   \n1             15.74  2020-05-01             72.55        0.03274   \n\n   SP 500 Initial Close  Equiv SP Shares  \n0            2913.97998         0.412494  \n1            2913.97998         0.072324  ",
      "text/html": "<div>\n<style scoped>\n    .dataframe tbody tr th:only-of-type {\n        vertical-align: middle;\n    }\n\n    .dataframe tbody tr th {\n        vertical-align: top;\n    }\n\n    .dataframe thead th {\n        text-align: right;\n    }\n</style>\n<table border=\"1\" class=\"dataframe\">\n  <thead>\n    <tr style=\"text-align: right;\">\n      <th></th>\n      <th>Acquisition Date</th>\n      <th>Quantity</th>\n      <th>Unit Cost</th>\n      <th>Cost Basis</th>\n      <th>Currency</th>\n      <th>Transaction Cost</th>\n      <th>Latest Date</th>\n      <th>Ticker Adj Close</th>\n      <th>ticker return</th>\n      <th>SP 500 Initial Close</th>\n      <th>Equiv SP Shares</th>\n    </tr>\n  </thead>\n  <tbody>\n    <tr>\n      <th>0</th>\n      <td>2018-09-28</td>\n      <td>1</td>\n      <td>1202.00</td>\n      <td>1202.00</td>\n      <td>USD</td>\n      <td>19.21</td>\n      <td>2020-05-01</td>\n      <td>1317.32</td>\n      <td>0.09594</td>\n      <td>2913.97998</td>\n      <td>0.412494</td>\n    </tr>\n    <tr>\n      <th>1</th>\n      <td>2018-09-28</td>\n      <td>3</td>\n      <td>70.25</td>\n      <td>210.75</td>\n      <td>USD</td>\n      <td>15.74</td>\n      <td>2020-05-01</td>\n      <td>72.55</td>\n      <td>0.03274</td>\n      <td>2913.97998</td>\n      <td>0.072324</td>\n    </tr>\n  </tbody>\n</table>\n</div>"
     },
     "metadata": {},
     "execution_count": 14
    }
   ],
   "source": [
    "# This new column determines what SP 500 equivalent purchase would have been at purchase date of stock.\n",
    "merged_portfolio_sp['Equiv SP Shares'] = merged_portfolio_sp['Cost Basis'] / merged_portfolio_sp['SP 500 Initial Close']\n",
    "merged_portfolio_sp.head()"
   ]
  },
  {
   "cell_type": "code",
   "execution_count": 15,
   "metadata": {},
   "outputs": [
    {
     "output_type": "execute_result",
     "data": {
      "text/plain": "  Acquisition Date  Quantity  Unit Cost  Cost Basis Currency  \\\n0       2018-09-28         1    1202.00     1202.00      USD   \n1       2018-09-28         3      70.25      210.75      USD   \n\n   Transaction Cost Latest Date  Ticker Adj Close  ticker return  \\\n0             19.21  2020-05-01           1317.32        0.09594   \n1             15.74  2020-05-01             72.55        0.03274   \n\n   SP 500 Initial Close  Equiv SP Shares  SP 500 Latest Close  \n0            2913.97998         0.412494          2830.709961  \n1            2913.97998         0.072324          2830.709961  ",
      "text/html": "<div>\n<style scoped>\n    .dataframe tbody tr th:only-of-type {\n        vertical-align: middle;\n    }\n\n    .dataframe tbody tr th {\n        vertical-align: top;\n    }\n\n    .dataframe thead th {\n        text-align: right;\n    }\n</style>\n<table border=\"1\" class=\"dataframe\">\n  <thead>\n    <tr style=\"text-align: right;\">\n      <th></th>\n      <th>Acquisition Date</th>\n      <th>Quantity</th>\n      <th>Unit Cost</th>\n      <th>Cost Basis</th>\n      <th>Currency</th>\n      <th>Transaction Cost</th>\n      <th>Latest Date</th>\n      <th>Ticker Adj Close</th>\n      <th>ticker return</th>\n      <th>SP 500 Initial Close</th>\n      <th>Equiv SP Shares</th>\n      <th>SP 500 Latest Close</th>\n    </tr>\n  </thead>\n  <tbody>\n    <tr>\n      <th>0</th>\n      <td>2018-09-28</td>\n      <td>1</td>\n      <td>1202.00</td>\n      <td>1202.00</td>\n      <td>USD</td>\n      <td>19.21</td>\n      <td>2020-05-01</td>\n      <td>1317.32</td>\n      <td>0.09594</td>\n      <td>2913.97998</td>\n      <td>0.412494</td>\n      <td>2830.709961</td>\n    </tr>\n    <tr>\n      <th>1</th>\n      <td>2018-09-28</td>\n      <td>3</td>\n      <td>70.25</td>\n      <td>210.75</td>\n      <td>USD</td>\n      <td>15.74</td>\n      <td>2020-05-01</td>\n      <td>72.55</td>\n      <td>0.03274</td>\n      <td>2913.97998</td>\n      <td>0.072324</td>\n      <td>2830.709961</td>\n    </tr>\n  </tbody>\n</table>\n</div>"
     },
     "metadata": {},
     "execution_count": 15
    }
   ],
   "source": [
    "# We are joining the developing dataframe with the sp500 closes again, this time with the latest close for SP.\n",
    "merged_portfolio_sp_latest = pd.merge(merged_portfolio_sp, sp_500_adj_close, left_on='Latest Date', right_on='Date')\n",
    "del merged_portfolio_sp_latest['Date']\n",
    "merged_portfolio_sp_latest.rename(columns={'Adj Close': 'SP 500 Latest Close'}, inplace=True)\n",
    "\n",
    "merged_portfolio_sp_latest.head()"
   ]
  },
  {
   "cell_type": "code",
   "execution_count": 16,
   "metadata": {},
   "outputs": [
    {
     "output_type": "execute_result",
     "data": {
      "text/plain": "  Acquisition Date  Quantity  Unit Cost  Cost Basis Currency  \\\n0       2018-09-28         1    1202.00     1202.00      USD   \n1       2018-09-28         3      70.25      210.75      USD   \n\n   Transaction Cost Latest Date  Ticker Adj Close  ticker return  \\\n0             19.21  2020-05-01           1317.32        0.09594   \n1             15.74  2020-05-01             72.55        0.03274   \n\n   SP 500 Initial Close  Equiv SP Shares  SP 500 Latest Close  SP Return  \\\n0            2913.97998         0.412494          2830.709961  -0.028576   \n1            2913.97998         0.072324          2830.709961  -0.028576   \n\n   Abs. Return Compare  Ticker Share Value  SP 500 Value  Abs Value Compare  \\\n0             0.124516             1317.32   1167.651595         149.668405   \n1             0.061316              217.65    204.727599          12.922401   \n\n   Stock Gain / (Loss)  SP 500 Gain / (Loss)  \n0               115.32            -34.348405  \n1                 6.90             -6.022401  ",
      "text/html": "<div>\n<style scoped>\n    .dataframe tbody tr th:only-of-type {\n        vertical-align: middle;\n    }\n\n    .dataframe tbody tr th {\n        vertical-align: top;\n    }\n\n    .dataframe thead th {\n        text-align: right;\n    }\n</style>\n<table border=\"1\" class=\"dataframe\">\n  <thead>\n    <tr style=\"text-align: right;\">\n      <th></th>\n      <th>Acquisition Date</th>\n      <th>Quantity</th>\n      <th>Unit Cost</th>\n      <th>Cost Basis</th>\n      <th>Currency</th>\n      <th>Transaction Cost</th>\n      <th>Latest Date</th>\n      <th>Ticker Adj Close</th>\n      <th>ticker return</th>\n      <th>SP 500 Initial Close</th>\n      <th>Equiv SP Shares</th>\n      <th>SP 500 Latest Close</th>\n      <th>SP Return</th>\n      <th>Abs. Return Compare</th>\n      <th>Ticker Share Value</th>\n      <th>SP 500 Value</th>\n      <th>Abs Value Compare</th>\n      <th>Stock Gain / (Loss)</th>\n      <th>SP 500 Gain / (Loss)</th>\n    </tr>\n  </thead>\n  <tbody>\n    <tr>\n      <th>0</th>\n      <td>2018-09-28</td>\n      <td>1</td>\n      <td>1202.00</td>\n      <td>1202.00</td>\n      <td>USD</td>\n      <td>19.21</td>\n      <td>2020-05-01</td>\n      <td>1317.32</td>\n      <td>0.09594</td>\n      <td>2913.97998</td>\n      <td>0.412494</td>\n      <td>2830.709961</td>\n      <td>-0.028576</td>\n      <td>0.124516</td>\n      <td>1317.32</td>\n      <td>1167.651595</td>\n      <td>149.668405</td>\n      <td>115.32</td>\n      <td>-34.348405</td>\n    </tr>\n    <tr>\n      <th>1</th>\n      <td>2018-09-28</td>\n      <td>3</td>\n      <td>70.25</td>\n      <td>210.75</td>\n      <td>USD</td>\n      <td>15.74</td>\n      <td>2020-05-01</td>\n      <td>72.55</td>\n      <td>0.03274</td>\n      <td>2913.97998</td>\n      <td>0.072324</td>\n      <td>2830.709961</td>\n      <td>-0.028576</td>\n      <td>0.061316</td>\n      <td>217.65</td>\n      <td>204.727599</td>\n      <td>12.922401</td>\n      <td>6.90</td>\n      <td>-6.022401</td>\n    </tr>\n  </tbody>\n</table>\n</div>"
     },
     "metadata": {},
     "execution_count": 16
    }
   ],
   "source": [
    "# Percent return of SP from acquisition date of position through latest trading day.\n",
    "merged_portfolio_sp_latest['SP Return'] = merged_portfolio_sp_latest['SP 500 Latest Close'] / merged_portfolio_sp_latest['SP 500 Initial Close'] - 1\n",
    "\n",
    "# This is a new column which takes the tickers return and subtracts the sp 500 equivalent range return.\n",
    "merged_portfolio_sp_latest['Abs. Return Compare'] = merged_portfolio_sp_latest['ticker return'] - merged_portfolio_sp_latest['SP Return']\n",
    "\n",
    "# This is a new column where we calculate the ticker's share value by multiplying the original quantity by the latest close.\n",
    "merged_portfolio_sp_latest['Ticker Share Value'] = merged_portfolio_sp_latest['Quantity'] * merged_portfolio_sp_latest['Ticker Adj Close']\n",
    "\n",
    "# We calculate the equivalent SP 500 Value if we take the original SP shares * the latest SP 500 share price.\n",
    "merged_portfolio_sp_latest['SP 500 Value'] = merged_portfolio_sp_latest['Equiv SP Shares'] * merged_portfolio_sp_latest['SP 500 Latest Close']\n",
    "\n",
    "# This is a new column where we take the current market value for the shares and subtract the SP 500 value.\n",
    "merged_portfolio_sp_latest['Abs Value Compare'] = merged_portfolio_sp_latest['Ticker Share Value'] - merged_portfolio_sp_latest['SP 500 Value']\n",
    "\n",
    "# This column calculates profit / loss for stock position.\n",
    "merged_portfolio_sp_latest['Stock Gain / (Loss)'] = merged_portfolio_sp_latest['Ticker Share Value'] - merged_portfolio_sp_latest['Cost Basis']\n",
    "\n",
    "# This column calculates profit / loss for SP 500.\n",
    "merged_portfolio_sp_latest['SP 500 Gain / (Loss)'] = merged_portfolio_sp_latest['SP 500 Value'] - merged_portfolio_sp_latest['Cost Basis']\n",
    "\n",
    "merged_portfolio_sp_latest.head()"
   ]
  },
  {
   "cell_type": "code",
   "execution_count": 17,
   "metadata": {},
   "outputs": [
    {
     "output_type": "execute_result",
     "data": {
      "text/plain": "  Acquisition Date  Quantity  Unit Cost  Cost Basis Currency  \\\n0       2018-09-28         1    1202.00     1202.00      USD   \n1       2018-09-28         3      70.25      210.75      USD   \n\n   Transaction Cost Latest Date  Ticker Adj Close  ticker return  \\\n0             19.21  2020-05-01           1317.32        0.09594   \n1             15.74  2020-05-01             72.55        0.03274   \n\n   SP 500 Initial Close  ...  Abs. Return Compare  Ticker Share Value  \\\n0            2913.97998  ...             0.124516             1317.32   \n1            2913.97998  ...             0.061316              217.65   \n\n   SP 500 Value  Abs Value Compare  Stock Gain / (Loss)  SP 500 Gain / (Loss)  \\\n0   1167.651595         149.668405               115.32            -34.348405   \n1    204.727599          12.922401                 6.90             -6.022401   \n\n   Cum Invst  Cum Ticker Returns  Cum SP Returns  Cum Ticker ROI Mult  \n0    1202.00             1317.32     1167.651595             1.095940  \n1    1412.75             1534.97     1372.379194             1.086512  \n\n[2 rows x 23 columns]",
      "text/html": "<div>\n<style scoped>\n    .dataframe tbody tr th:only-of-type {\n        vertical-align: middle;\n    }\n\n    .dataframe tbody tr th {\n        vertical-align: top;\n    }\n\n    .dataframe thead th {\n        text-align: right;\n    }\n</style>\n<table border=\"1\" class=\"dataframe\">\n  <thead>\n    <tr style=\"text-align: right;\">\n      <th></th>\n      <th>Acquisition Date</th>\n      <th>Quantity</th>\n      <th>Unit Cost</th>\n      <th>Cost Basis</th>\n      <th>Currency</th>\n      <th>Transaction Cost</th>\n      <th>Latest Date</th>\n      <th>Ticker Adj Close</th>\n      <th>ticker return</th>\n      <th>SP 500 Initial Close</th>\n      <th>...</th>\n      <th>Abs. Return Compare</th>\n      <th>Ticker Share Value</th>\n      <th>SP 500 Value</th>\n      <th>Abs Value Compare</th>\n      <th>Stock Gain / (Loss)</th>\n      <th>SP 500 Gain / (Loss)</th>\n      <th>Cum Invst</th>\n      <th>Cum Ticker Returns</th>\n      <th>Cum SP Returns</th>\n      <th>Cum Ticker ROI Mult</th>\n    </tr>\n  </thead>\n  <tbody>\n    <tr>\n      <th>0</th>\n      <td>2018-09-28</td>\n      <td>1</td>\n      <td>1202.00</td>\n      <td>1202.00</td>\n      <td>USD</td>\n      <td>19.21</td>\n      <td>2020-05-01</td>\n      <td>1317.32</td>\n      <td>0.09594</td>\n      <td>2913.97998</td>\n      <td>...</td>\n      <td>0.124516</td>\n      <td>1317.32</td>\n      <td>1167.651595</td>\n      <td>149.668405</td>\n      <td>115.32</td>\n      <td>-34.348405</td>\n      <td>1202.00</td>\n      <td>1317.32</td>\n      <td>1167.651595</td>\n      <td>1.095940</td>\n    </tr>\n    <tr>\n      <th>1</th>\n      <td>2018-09-28</td>\n      <td>3</td>\n      <td>70.25</td>\n      <td>210.75</td>\n      <td>USD</td>\n      <td>15.74</td>\n      <td>2020-05-01</td>\n      <td>72.55</td>\n      <td>0.03274</td>\n      <td>2913.97998</td>\n      <td>...</td>\n      <td>0.061316</td>\n      <td>217.65</td>\n      <td>204.727599</td>\n      <td>12.922401</td>\n      <td>6.90</td>\n      <td>-6.022401</td>\n      <td>1412.75</td>\n      <td>1534.97</td>\n      <td>1372.379194</td>\n      <td>1.086512</td>\n    </tr>\n  </tbody>\n</table>\n<p>2 rows × 23 columns</p>\n</div>"
     },
     "metadata": {},
     "execution_count": 17
    }
   ],
   "source": [
    "# Cumulative sum of original investment\n",
    "merged_portfolio_sp_latest['Cum Invst'] = merged_portfolio_sp_latest['Cost Basis'].cumsum()\n",
    "\n",
    "# Cumulative sum of Ticker Share Value (latest FMV based on initial quantity purchased).\n",
    "merged_portfolio_sp_latest['Cum Ticker Returns'] = merged_portfolio_sp_latest['Ticker Share Value'].cumsum()\n",
    "\n",
    "# Cumulative sum of SP Share Value (latest FMV driven off of initial SP equiv purchase).\n",
    "merged_portfolio_sp_latest['Cum SP Returns'] = merged_portfolio_sp_latest['SP 500 Value'].cumsum()\n",
    "\n",
    "# Cumulative CoC multiple return for stock investments\n",
    "merged_portfolio_sp_latest['Cum Ticker ROI Mult'] = merged_portfolio_sp_latest['Cum Ticker Returns'] / merged_portfolio_sp_latest['Cum Invst']\n",
    "\n",
    "merged_portfolio_sp_latest.head()\n",
    ""
   ]
  },
  {
   "cell_type": "code",
   "execution_count": 33,
   "metadata": {},
   "outputs": [],
   "source": [
    "merged_portfolio_sp_latest.to_csv('Portfolio_returns.csv')"
   ]
  },
  {
   "cell_type": "markdown",
   "metadata": {},
   "source": [
    "## Assessing Where Positions are At versus Highest Close"
   ]
  },
  {
   "cell_type": "code",
   "execution_count": 18,
   "metadata": {},
   "outputs": [
    {
     "output_type": "execute_result",
     "data": {
      "text/plain": "  Ticker       Date  Adj Close\n0  GOOGL 2004-08-19      50.22\n1  GOOGL 2004-08-20      54.21\n2  GOOGL 2004-08-23      54.75\n3  GOOGL 2004-08-24      52.49\n4  GOOGL 2004-08-25      53.05",
      "text/html": "<div>\n<style scoped>\n    .dataframe tbody tr th:only-of-type {\n        vertical-align: middle;\n    }\n\n    .dataframe tbody tr th {\n        vertical-align: top;\n    }\n\n    .dataframe thead th {\n        text-align: right;\n    }\n</style>\n<table border=\"1\" class=\"dataframe\">\n  <thead>\n    <tr style=\"text-align: right;\">\n      <th></th>\n      <th>Ticker</th>\n      <th>Date</th>\n      <th>Adj Close</th>\n    </tr>\n  </thead>\n  <tbody>\n    <tr>\n      <th>0</th>\n      <td>GOOGL</td>\n      <td>2004-08-19</td>\n      <td>50.22</td>\n    </tr>\n    <tr>\n      <th>1</th>\n      <td>GOOGL</td>\n      <td>2004-08-20</td>\n      <td>54.21</td>\n    </tr>\n    <tr>\n      <th>2</th>\n      <td>GOOGL</td>\n      <td>2004-08-23</td>\n      <td>54.75</td>\n    </tr>\n    <tr>\n      <th>3</th>\n      <td>GOOGL</td>\n      <td>2004-08-24</td>\n      <td>52.49</td>\n    </tr>\n    <tr>\n      <th>4</th>\n      <td>GOOGL</td>\n      <td>2004-08-25</td>\n      <td>53.05</td>\n    </tr>\n  </tbody>\n</table>\n</div>"
     },
     "metadata": {},
     "execution_count": 18
    }
   ],
   "source": [
    "# Referencing the adj_close dataframe from above\n",
    "\n",
    "adj_close.head()"
   ]
  },
  {
   "cell_type": "code",
   "execution_count": 19,
   "metadata": {},
   "outputs": [
    {
     "output_type": "execute_result",
     "data": {
      "text/plain": "       Acquisition Date  Quantity  Unit Cost  Cost Basis Currency  \\\nTicker                                                              \nGOOGL        2018-09-28         1    1202.00     1202.00      USD   \nZEN          2018-09-28         3      70.25      210.75      USD   \n\n        Transaction Cost  \nTicker                    \nGOOGL              19.21  \nZEN                15.74  ",
      "text/html": "<div>\n<style scoped>\n    .dataframe tbody tr th:only-of-type {\n        vertical-align: middle;\n    }\n\n    .dataframe tbody tr th {\n        vertical-align: top;\n    }\n\n    .dataframe thead th {\n        text-align: right;\n    }\n</style>\n<table border=\"1\" class=\"dataframe\">\n  <thead>\n    <tr style=\"text-align: right;\">\n      <th></th>\n      <th>Acquisition Date</th>\n      <th>Quantity</th>\n      <th>Unit Cost</th>\n      <th>Cost Basis</th>\n      <th>Currency</th>\n      <th>Transaction Cost</th>\n    </tr>\n    <tr>\n      <th>Ticker</th>\n      <th></th>\n      <th></th>\n      <th></th>\n      <th></th>\n      <th></th>\n      <th></th>\n    </tr>\n  </thead>\n  <tbody>\n    <tr>\n      <th>GOOGL</th>\n      <td>2018-09-28</td>\n      <td>1</td>\n      <td>1202.00</td>\n      <td>1202.00</td>\n      <td>USD</td>\n      <td>19.21</td>\n    </tr>\n    <tr>\n      <th>ZEN</th>\n      <td>2018-09-28</td>\n      <td>3</td>\n      <td>70.25</td>\n      <td>210.75</td>\n      <td>USD</td>\n      <td>15.74</td>\n    </tr>\n  </tbody>\n</table>\n</div>"
     },
     "metadata": {},
     "execution_count": 19
    }
   ],
   "source": [
    "portfolio_df.head()"
   ]
  },
  {
   "cell_type": "code",
   "execution_count": 20,
   "metadata": {},
   "outputs": [
    {
     "output_type": "execute_result",
     "data": {
      "text/plain": "  Ticker       Date  Adj Close Acquisition Date  Quantity  Unit Cost  \\\n0  GOOGL 2004-08-19      50.22       2018-09-28         1     1202.0   \n1  GOOGL 2004-08-20      54.21       2018-09-28         1     1202.0   \n2  GOOGL 2004-08-23      54.75       2018-09-28         1     1202.0   \n3  GOOGL 2004-08-24      52.49       2018-09-28         1     1202.0   \n4  GOOGL 2004-08-25      53.05       2018-09-28         1     1202.0   \n\n   Cost Basis Currency  Transaction Cost  \n0      1202.0      USD             19.21  \n1      1202.0      USD             19.21  \n2      1202.0      USD             19.21  \n3      1202.0      USD             19.21  \n4      1202.0      USD             19.21  ",
      "text/html": "<div>\n<style scoped>\n    .dataframe tbody tr th:only-of-type {\n        vertical-align: middle;\n    }\n\n    .dataframe tbody tr th {\n        vertical-align: top;\n    }\n\n    .dataframe thead th {\n        text-align: right;\n    }\n</style>\n<table border=\"1\" class=\"dataframe\">\n  <thead>\n    <tr style=\"text-align: right;\">\n      <th></th>\n      <th>Ticker</th>\n      <th>Date</th>\n      <th>Adj Close</th>\n      <th>Acquisition Date</th>\n      <th>Quantity</th>\n      <th>Unit Cost</th>\n      <th>Cost Basis</th>\n      <th>Currency</th>\n      <th>Transaction Cost</th>\n    </tr>\n  </thead>\n  <tbody>\n    <tr>\n      <th>0</th>\n      <td>GOOGL</td>\n      <td>2004-08-19</td>\n      <td>50.22</td>\n      <td>2018-09-28</td>\n      <td>1</td>\n      <td>1202.0</td>\n      <td>1202.0</td>\n      <td>USD</td>\n      <td>19.21</td>\n    </tr>\n    <tr>\n      <th>1</th>\n      <td>GOOGL</td>\n      <td>2004-08-20</td>\n      <td>54.21</td>\n      <td>2018-09-28</td>\n      <td>1</td>\n      <td>1202.0</td>\n      <td>1202.0</td>\n      <td>USD</td>\n      <td>19.21</td>\n    </tr>\n    <tr>\n      <th>2</th>\n      <td>GOOGL</td>\n      <td>2004-08-23</td>\n      <td>54.75</td>\n      <td>2018-09-28</td>\n      <td>1</td>\n      <td>1202.0</td>\n      <td>1202.0</td>\n      <td>USD</td>\n      <td>19.21</td>\n    </tr>\n    <tr>\n      <th>3</th>\n      <td>GOOGL</td>\n      <td>2004-08-24</td>\n      <td>52.49</td>\n      <td>2018-09-28</td>\n      <td>1</td>\n      <td>1202.0</td>\n      <td>1202.0</td>\n      <td>USD</td>\n      <td>19.21</td>\n    </tr>\n    <tr>\n      <th>4</th>\n      <td>GOOGL</td>\n      <td>2004-08-25</td>\n      <td>53.05</td>\n      <td>2018-09-28</td>\n      <td>1</td>\n      <td>1202.0</td>\n      <td>1202.0</td>\n      <td>USD</td>\n      <td>19.21</td>\n    </tr>\n  </tbody>\n</table>\n</div>"
     },
     "metadata": {},
     "execution_count": 20
    }
   ],
   "source": [
    "# Need to factor in that some positions were purchased much more recently than others.\n",
    "# Join adj_close dataframe with portfolio in order to have acquisition date.\n",
    "\n",
    "portfolio_df.reset_index(inplace=True)\n",
    "\n",
    "adj_close_acq_date = pd.merge(adj_close, portfolio_df, on='Ticker')\n",
    "\n",
    "adj_close_acq_date.head()"
   ]
  },
  {
   "cell_type": "code",
   "execution_count": 21,
   "metadata": {
    "collapsed": true
   },
   "outputs": [
    {
     "output_type": "execute_result",
     "data": {
      "text/plain": "     Ticker       Date  Adj Close Acquisition Date Currency  Transaction Cost\n0     GOOGL 2004-08-19      50.22       2018-09-28      USD             19.21\n1     GOOGL 2004-08-20      54.21       2018-09-28      USD             19.21\n2     GOOGL 2004-08-23      54.75       2018-09-28      USD             19.21\n3     GOOGL 2004-08-24      52.49       2018-09-28      USD             19.21\n4     GOOGL 2004-08-25      53.05       2018-09-28      USD             19.21\n...     ...        ...        ...              ...      ...               ...\n5450    ZEN 2020-04-27      73.74       2018-09-28      USD             15.74\n5451    ZEN 2020-04-28      71.91       2018-09-28      USD             15.74\n5452    ZEN 2020-04-29      75.87       2018-09-28      USD             15.74\n5453    ZEN 2020-04-30      76.88       2018-09-28      USD             15.74\n5454    ZEN 2020-05-01      72.55       2018-09-28      USD             15.74\n\n[5455 rows x 6 columns]",
      "text/html": "<div>\n<style scoped>\n    .dataframe tbody tr th:only-of-type {\n        vertical-align: middle;\n    }\n\n    .dataframe tbody tr th {\n        vertical-align: top;\n    }\n\n    .dataframe thead th {\n        text-align: right;\n    }\n</style>\n<table border=\"1\" class=\"dataframe\">\n  <thead>\n    <tr style=\"text-align: right;\">\n      <th></th>\n      <th>Ticker</th>\n      <th>Date</th>\n      <th>Adj Close</th>\n      <th>Acquisition Date</th>\n      <th>Currency</th>\n      <th>Transaction Cost</th>\n    </tr>\n  </thead>\n  <tbody>\n    <tr>\n      <th>0</th>\n      <td>GOOGL</td>\n      <td>2004-08-19</td>\n      <td>50.22</td>\n      <td>2018-09-28</td>\n      <td>USD</td>\n      <td>19.21</td>\n    </tr>\n    <tr>\n      <th>1</th>\n      <td>GOOGL</td>\n      <td>2004-08-20</td>\n      <td>54.21</td>\n      <td>2018-09-28</td>\n      <td>USD</td>\n      <td>19.21</td>\n    </tr>\n    <tr>\n      <th>2</th>\n      <td>GOOGL</td>\n      <td>2004-08-23</td>\n      <td>54.75</td>\n      <td>2018-09-28</td>\n      <td>USD</td>\n      <td>19.21</td>\n    </tr>\n    <tr>\n      <th>3</th>\n      <td>GOOGL</td>\n      <td>2004-08-24</td>\n      <td>52.49</td>\n      <td>2018-09-28</td>\n      <td>USD</td>\n      <td>19.21</td>\n    </tr>\n    <tr>\n      <th>4</th>\n      <td>GOOGL</td>\n      <td>2004-08-25</td>\n      <td>53.05</td>\n      <td>2018-09-28</td>\n      <td>USD</td>\n      <td>19.21</td>\n    </tr>\n    <tr>\n      <th>...</th>\n      <td>...</td>\n      <td>...</td>\n      <td>...</td>\n      <td>...</td>\n      <td>...</td>\n      <td>...</td>\n    </tr>\n    <tr>\n      <th>5450</th>\n      <td>ZEN</td>\n      <td>2020-04-27</td>\n      <td>73.74</td>\n      <td>2018-09-28</td>\n      <td>USD</td>\n      <td>15.74</td>\n    </tr>\n    <tr>\n      <th>5451</th>\n      <td>ZEN</td>\n      <td>2020-04-28</td>\n      <td>71.91</td>\n      <td>2018-09-28</td>\n      <td>USD</td>\n      <td>15.74</td>\n    </tr>\n    <tr>\n      <th>5452</th>\n      <td>ZEN</td>\n      <td>2020-04-29</td>\n      <td>75.87</td>\n      <td>2018-09-28</td>\n      <td>USD</td>\n      <td>15.74</td>\n    </tr>\n    <tr>\n      <th>5453</th>\n      <td>ZEN</td>\n      <td>2020-04-30</td>\n      <td>76.88</td>\n      <td>2018-09-28</td>\n      <td>USD</td>\n      <td>15.74</td>\n    </tr>\n    <tr>\n      <th>5454</th>\n      <td>ZEN</td>\n      <td>2020-05-01</td>\n      <td>72.55</td>\n      <td>2018-09-28</td>\n      <td>USD</td>\n      <td>15.74</td>\n    </tr>\n  </tbody>\n</table>\n<p>5455 rows × 6 columns</p>\n</div>"
     },
     "metadata": {},
     "execution_count": 21
    }
   ],
   "source": [
    "# delete_columns = ['Quantity', 'Unit Cost', 'Cost Basis', 'Start of Year']\n",
    "\n",
    "del adj_close_acq_date['Quantity']\n",
    "del adj_close_acq_date['Unit Cost']\n",
    "del adj_close_acq_date['Cost Basis']\n",
    "\n",
    "\n",
    "# Sort by these columns in this order in order to make it clearer where compare for each position should begin.\n",
    "adj_close_acq_date.sort_values(by=['Ticker', 'Acquisition Date', 'Date'], ascending=[True, True, True], inplace=True)\n",
    "adj_close_acq_date"
   ]
  },
  {
   "cell_type": "code",
   "execution_count": 22,
   "metadata": {},
   "outputs": [
    {
     "output_type": "execute_result",
     "data": {
      "text/plain": "  Ticker       Date  Adj Close Acquisition Date Currency  Transaction Cost  \\\n0  GOOGL 2004-08-19      50.22       2018-09-28      USD             19.21   \n1  GOOGL 2004-08-20      54.21       2018-09-28      USD             19.21   \n2  GOOGL 2004-08-23      54.75       2018-09-28      USD             19.21   \n3  GOOGL 2004-08-24      52.49       2018-09-28      USD             19.21   \n4  GOOGL 2004-08-25      53.05       2018-09-28      USD             19.21   \n\n           Date Delta  \n0 -445219200000000000  \n1 -445132800000000000  \n2 -444873600000000000  \n3 -444787200000000000  \n4 -444700800000000000  ",
      "text/html": "<div>\n<style scoped>\n    .dataframe tbody tr th:only-of-type {\n        vertical-align: middle;\n    }\n\n    .dataframe tbody tr th {\n        vertical-align: top;\n    }\n\n    .dataframe thead th {\n        text-align: right;\n    }\n</style>\n<table border=\"1\" class=\"dataframe\">\n  <thead>\n    <tr style=\"text-align: right;\">\n      <th></th>\n      <th>Ticker</th>\n      <th>Date</th>\n      <th>Adj Close</th>\n      <th>Acquisition Date</th>\n      <th>Currency</th>\n      <th>Transaction Cost</th>\n      <th>Date Delta</th>\n    </tr>\n  </thead>\n  <tbody>\n    <tr>\n      <th>0</th>\n      <td>GOOGL</td>\n      <td>2004-08-19</td>\n      <td>50.22</td>\n      <td>2018-09-28</td>\n      <td>USD</td>\n      <td>19.21</td>\n      <td>-445219200000000000</td>\n    </tr>\n    <tr>\n      <th>1</th>\n      <td>GOOGL</td>\n      <td>2004-08-20</td>\n      <td>54.21</td>\n      <td>2018-09-28</td>\n      <td>USD</td>\n      <td>19.21</td>\n      <td>-445132800000000000</td>\n    </tr>\n    <tr>\n      <th>2</th>\n      <td>GOOGL</td>\n      <td>2004-08-23</td>\n      <td>54.75</td>\n      <td>2018-09-28</td>\n      <td>USD</td>\n      <td>19.21</td>\n      <td>-444873600000000000</td>\n    </tr>\n    <tr>\n      <th>3</th>\n      <td>GOOGL</td>\n      <td>2004-08-24</td>\n      <td>52.49</td>\n      <td>2018-09-28</td>\n      <td>USD</td>\n      <td>19.21</td>\n      <td>-444787200000000000</td>\n    </tr>\n    <tr>\n      <th>4</th>\n      <td>GOOGL</td>\n      <td>2004-08-25</td>\n      <td>53.05</td>\n      <td>2018-09-28</td>\n      <td>USD</td>\n      <td>19.21</td>\n      <td>-444700800000000000</td>\n    </tr>\n  </tbody>\n</table>\n</div>"
     },
     "metadata": {},
     "execution_count": 22
    }
   ],
   "source": [
    "# Anything less than 0 means that the stock close was prior to acquisition.\n",
    "adj_close_acq_date['Date Delta'] = adj_close_acq_date['Date'] - adj_close_acq_date['Acquisition Date'].astype('datetime64[ns]')\n",
    "\n",
    "adj_close_acq_date['Date Delta'] = adj_close_acq_date[['Date Delta']].apply(pd.to_numeric)  \n",
    "\n",
    "adj_close_acq_date.head()"
   ]
  },
  {
   "cell_type": "code",
   "execution_count": 23,
   "metadata": {},
   "outputs": [
    {
     "output_type": "execute_result",
     "data": {
      "text/plain": "     Ticker       Date  Adj Close Acquisition Date Currency  Transaction Cost  \\\n3553  GOOGL 2018-09-28    1207.08       2018-09-28      USD             19.21   \n3554  GOOGL 2018-10-01    1208.53       2018-09-28      USD             19.21   \n3555  GOOGL 2018-10-02    1207.64       2018-09-28      USD             19.21   \n3556  GOOGL 2018-10-03    1211.53       2018-09-28      USD             19.21   \n3557  GOOGL 2018-10-04    1177.07       2018-09-28      USD             19.21   \n\n           Date Delta  \n3553                0  \n3554  259200000000000  \n3555  345600000000000  \n3556  432000000000000  \n3557  518400000000000  ",
      "text/html": "<div>\n<style scoped>\n    .dataframe tbody tr th:only-of-type {\n        vertical-align: middle;\n    }\n\n    .dataframe tbody tr th {\n        vertical-align: top;\n    }\n\n    .dataframe thead th {\n        text-align: right;\n    }\n</style>\n<table border=\"1\" class=\"dataframe\">\n  <thead>\n    <tr style=\"text-align: right;\">\n      <th></th>\n      <th>Ticker</th>\n      <th>Date</th>\n      <th>Adj Close</th>\n      <th>Acquisition Date</th>\n      <th>Currency</th>\n      <th>Transaction Cost</th>\n      <th>Date Delta</th>\n    </tr>\n  </thead>\n  <tbody>\n    <tr>\n      <th>3553</th>\n      <td>GOOGL</td>\n      <td>2018-09-28</td>\n      <td>1207.08</td>\n      <td>2018-09-28</td>\n      <td>USD</td>\n      <td>19.21</td>\n      <td>0</td>\n    </tr>\n    <tr>\n      <th>3554</th>\n      <td>GOOGL</td>\n      <td>2018-10-01</td>\n      <td>1208.53</td>\n      <td>2018-09-28</td>\n      <td>USD</td>\n      <td>19.21</td>\n      <td>259200000000000</td>\n    </tr>\n    <tr>\n      <th>3555</th>\n      <td>GOOGL</td>\n      <td>2018-10-02</td>\n      <td>1207.64</td>\n      <td>2018-09-28</td>\n      <td>USD</td>\n      <td>19.21</td>\n      <td>345600000000000</td>\n    </tr>\n    <tr>\n      <th>3556</th>\n      <td>GOOGL</td>\n      <td>2018-10-03</td>\n      <td>1211.53</td>\n      <td>2018-09-28</td>\n      <td>USD</td>\n      <td>19.21</td>\n      <td>432000000000000</td>\n    </tr>\n    <tr>\n      <th>3557</th>\n      <td>GOOGL</td>\n      <td>2018-10-04</td>\n      <td>1177.07</td>\n      <td>2018-09-28</td>\n      <td>USD</td>\n      <td>19.21</td>\n      <td>518400000000000</td>\n    </tr>\n  </tbody>\n</table>\n</div>"
     },
     "metadata": {},
     "execution_count": 23
    }
   ],
   "source": [
    "# Modified the dataframe being evaluated to look at highest close which occurred after Acquisition Date (aka, not prior to purchase).\n",
    "\n",
    "adj_close_acq_date_modified = adj_close_acq_date[adj_close_acq_date['Date Delta']>=0]\n",
    "\n",
    "adj_close_acq_date_modified.head()"
   ]
  },
  {
   "cell_type": "code",
   "execution_count": 24,
   "metadata": {},
   "outputs": [
    {
     "output_type": "execute_result",
     "data": {
      "text/plain": "  Ticker Acquisition Date  Adj Close\n0  GOOGL       2018-09-28    1524.87\n1    ZEN       2018-09-28      93.74",
      "text/html": "<div>\n<style scoped>\n    .dataframe tbody tr th:only-of-type {\n        vertical-align: middle;\n    }\n\n    .dataframe tbody tr th {\n        vertical-align: top;\n    }\n\n    .dataframe thead th {\n        text-align: right;\n    }\n</style>\n<table border=\"1\" class=\"dataframe\">\n  <thead>\n    <tr style=\"text-align: right;\">\n      <th></th>\n      <th>Ticker</th>\n      <th>Acquisition Date</th>\n      <th>Adj Close</th>\n    </tr>\n  </thead>\n  <tbody>\n    <tr>\n      <th>0</th>\n      <td>GOOGL</td>\n      <td>2018-09-28</td>\n      <td>1524.87</td>\n    </tr>\n    <tr>\n      <th>1</th>\n      <td>ZEN</td>\n      <td>2018-09-28</td>\n      <td>93.74</td>\n    </tr>\n  </tbody>\n</table>\n</div>"
     },
     "metadata": {},
     "execution_count": 24
    }
   ],
   "source": [
    "# This pivot table will index on the Ticker and Acquisition Date, and find the max adjusted close.\n",
    "\n",
    "adj_close_pivot = adj_close_acq_date_modified.pivot_table(index=['Ticker', 'Acquisition Date'], values='Adj Close', aggfunc=np.max)\n",
    "\n",
    "adj_close_pivot.reset_index(inplace=True)\n",
    "\n",
    "adj_close_pivot"
   ]
  },
  {
   "cell_type": "code",
   "execution_count": 25,
   "metadata": {},
   "outputs": [
    {
     "output_type": "execute_result",
     "data": {
      "text/plain": "  Ticker Acquisition Date  Adj Close       Date\n0  GOOGL       2018-09-28    1524.87 2020-02-19\n1    ZEN       2018-09-28      93.74 2019-07-26",
      "text/html": "<div>\n<style scoped>\n    .dataframe tbody tr th:only-of-type {\n        vertical-align: middle;\n    }\n\n    .dataframe tbody tr th {\n        vertical-align: top;\n    }\n\n    .dataframe thead th {\n        text-align: right;\n    }\n</style>\n<table border=\"1\" class=\"dataframe\">\n  <thead>\n    <tr style=\"text-align: right;\">\n      <th></th>\n      <th>Ticker</th>\n      <th>Acquisition Date</th>\n      <th>Adj Close</th>\n      <th>Date</th>\n    </tr>\n  </thead>\n  <tbody>\n    <tr>\n      <th>0</th>\n      <td>GOOGL</td>\n      <td>2018-09-28</td>\n      <td>1524.87</td>\n      <td>2020-02-19</td>\n    </tr>\n    <tr>\n      <th>1</th>\n      <td>ZEN</td>\n      <td>2018-09-28</td>\n      <td>93.74</td>\n      <td>2019-07-26</td>\n    </tr>\n  </tbody>\n</table>\n</div>"
     },
     "metadata": {},
     "execution_count": 25
    }
   ],
   "source": [
    "# Merge the adj close pivot table with the adj_close table in order to grab the date of the Adj Close High (good to know).\n",
    "\n",
    "adj_close_pivot_merged = pd.merge(adj_close_pivot, adj_close\n",
    "                                             , on=['Ticker', 'Adj Close'])\n",
    "\n",
    "adj_close_pivot_merged.head()"
   ]
  },
  {
   "cell_type": "code",
   "execution_count": 26,
   "metadata": {},
   "outputs": [
    {
     "output_type": "error",
     "ename": "NameError",
     "evalue": "name 'merged_portfolio_sp_latest_YTD_sp' is not defined",
     "traceback": [
      "\u001b[0;31m---------------------------------------------------------------------------\u001b[0m",
      "\u001b[0;31mNameError\u001b[0m                                 Traceback (most recent call last)",
      "\u001b[0;32m<ipython-input-26-8b21c309e94c>\u001b[0m in \u001b[0;36m<module>\u001b[0;34m\u001b[0m\n\u001b[1;32m      1\u001b[0m \u001b[0;31m# Merge the Adj Close pivot table with the master dataframe to have the closing high since you have owned the stock.\u001b[0m\u001b[0;34m\u001b[0m\u001b[0;34m\u001b[0m\u001b[0;34m\u001b[0m\u001b[0m\n\u001b[1;32m      2\u001b[0m \u001b[0;34m\u001b[0m\u001b[0m\n\u001b[0;32m----> 3\u001b[0;31m merged_portfolio_sp_latest_YTD_sp_closing_high = pd.merge(merged_portfolio_sp_latest_YTD_sp, adj_close_pivot_merged\n\u001b[0m\u001b[1;32m      4\u001b[0m                                              , on=['Ticker', 'Acquisition Date'])\n\u001b[1;32m      5\u001b[0m \u001b[0;34m\u001b[0m\u001b[0m\n",
      "\u001b[0;31mNameError\u001b[0m: name 'merged_portfolio_sp_latest_YTD_sp' is not defined"
     ]
    }
   ],
   "source": [
    "# Merge the Adj Close pivot table with the master dataframe to have the closing high since you have owned the stock.\n",
    "\n",
    "merged_portfolio_sp_latest_YTD_sp_closing_high = pd.merge(merged_portfolio_sp_latest_YTD_sp, adj_close_pivot_merged\n",
    "                                             , on=['Ticker', 'Acquisition Date'])\n",
    "\n",
    "# Renaming so that it's clear that the new columns are two year closing high and two year closing high date.\n",
    "merged_portfolio_sp_latest_YTD_sp_closing_high.rename(columns={'Adj Close': 'Closing High Adj Close', 'Date': 'Closing High Adj Close Date'}, inplace=True)\n",
    "\n",
    "merged_portfolio_sp_latest_YTD_sp_closing_high['Pct off High'] = merged_portfolio_sp_latest_YTD_sp_closing_high['Ticker Adj Close'] / merged_portfolio_sp_latest_YTD_sp_closing_high['Closing High Adj Close'] - 1 \n",
    "\n",
    "merged_portfolio_sp_latest_YTD_sp_closing_high"
   ]
  },
  {
   "cell_type": "code",
   "execution_count": 27,
   "metadata": {
    "collapsed": true
   },
   "outputs": [],
   "source": [
    "# Not needed for this blog post -- this is if you have multiple positions for the same ticker with different acquisition dates.\n",
    "# merged_portfolio_sp_latest_YTD_sp_closing_high['Counts'] = merged_portfolio_sp_latest_YTD_sp_closing_high.index\n",
    "\n",
    "# merged_portfolio_sp_latest_YTD_sp_closing_high['Ticker #'] = merged_portfolio_sp_latest_YTD_sp_closing_high['Ticker'].map(str) + ' ' + merged_portfolio_sp_latest_YTD_sp_closing_high['Counts'].map(str)\n",
    "\n",
    "# merged_portfolio_sp_latest_YTD_sp_closing_high.head()"
   ]
  },
  {
   "cell_type": "markdown",
   "metadata": {},
   "source": [
    "## YTD and Trailing Stop Charts"
   ]
  },
  {
   "cell_type": "code",
   "execution_count": 28,
   "metadata": {},
   "outputs": [
    {
     "output_type": "error",
     "ename": "NameError",
     "evalue": "name 'merged_portfolio_sp_latest_YTD_sp' is not defined",
     "traceback": [
      "\u001b[0;31m---------------------------------------------------------------------------\u001b[0m",
      "\u001b[0;31mNameError\u001b[0m                                 Traceback (most recent call last)",
      "\u001b[0;32m<ipython-input-28-85a9b9fc13bc>\u001b[0m in \u001b[0;36m<module>\u001b[0;34m\u001b[0m\n\u001b[1;32m      2\u001b[0m \u001b[0;34m\u001b[0m\u001b[0m\n\u001b[1;32m      3\u001b[0m trace1 = go.Bar(\n\u001b[0;32m----> 4\u001b[0;31m     \u001b[0mx\u001b[0m \u001b[0;34m=\u001b[0m \u001b[0mmerged_portfolio_sp_latest_YTD_sp\u001b[0m\u001b[0;34m[\u001b[0m\u001b[0;34m'Ticker'\u001b[0m\u001b[0;34m]\u001b[0m\u001b[0;34m[\u001b[0m\u001b[0;36m0\u001b[0m\u001b[0;34m:\u001b[0m\u001b[0;36m10\u001b[0m\u001b[0;34m]\u001b[0m\u001b[0;34m,\u001b[0m\u001b[0;34m\u001b[0m\u001b[0;34m\u001b[0m\u001b[0m\n\u001b[0m\u001b[1;32m      5\u001b[0m     \u001b[0my\u001b[0m \u001b[0;34m=\u001b[0m \u001b[0mmerged_portfolio_sp_latest_YTD_sp\u001b[0m\u001b[0;34m[\u001b[0m\u001b[0;34m'Share YTD'\u001b[0m\u001b[0;34m]\u001b[0m\u001b[0;34m[\u001b[0m\u001b[0;36m0\u001b[0m\u001b[0;34m:\u001b[0m\u001b[0;36m10\u001b[0m\u001b[0;34m]\u001b[0m\u001b[0;34m,\u001b[0m\u001b[0;34m\u001b[0m\u001b[0;34m\u001b[0m\u001b[0m\n\u001b[1;32m      6\u001b[0m     name = 'Ticker YTD')\n",
      "\u001b[0;31mNameError\u001b[0m: name 'merged_portfolio_sp_latest_YTD_sp' is not defined"
     ]
    }
   ],
   "source": [
    "# Ploty is an outstanding resource for interactive charts.\n",
    "\n",
    "trace1 = go.Bar(\n",
    "    x = merged_portfolio_sp_latest_YTD_sp['Ticker'][0:10],\n",
    "    y = merged_portfolio_sp_latest_YTD_sp['Share YTD'][0:10],\n",
    "    name = 'Ticker YTD')\n",
    "\n",
    "trace2 = go.Scatter(\n",
    "    x = merged_portfolio_sp_latest_YTD_sp['Ticker'][0:10],\n",
    "    y = merged_portfolio_sp_latest_YTD_sp['SP 500 YTD'][0:10],\n",
    "    name = 'SP500 YTD')\n",
    "    \n",
    "data = [trace1, trace2]\n",
    "\n",
    "layout = go.Layout(title = 'YTD Return vs S&P 500 YTD'\n",
    "    , barmode = 'group'\n",
    "    , yaxis=dict(title='Returns', tickformat=\".2%\")\n",
    "    , xaxis=dict(title='Ticker')\n",
    "    , legend=dict(x=.8,y=1)\n",
    "    )\n",
    "\n",
    "fig = go.Figure(data=data, layout=layout)\n",
    "iplot(fig)"
   ]
  },
  {
   "cell_type": "code",
   "execution_count": 29,
   "metadata": {},
   "outputs": [
    {
     "output_type": "error",
     "ename": "NameError",
     "evalue": "name 'merged_portfolio_sp_latest_YTD_sp_closing_high' is not defined",
     "traceback": [
      "\u001b[0;31m---------------------------------------------------------------------------\u001b[0m",
      "\u001b[0;31mNameError\u001b[0m                                 Traceback (most recent call last)",
      "\u001b[0;32m<ipython-input-29-11bfa176ee4d>\u001b[0m in \u001b[0;36m<module>\u001b[0;34m\u001b[0m\n\u001b[1;32m      2\u001b[0m \u001b[0;32mimport\u001b[0m \u001b[0mnbformat\u001b[0m\u001b[0;34m\u001b[0m\u001b[0;34m\u001b[0m\u001b[0m\n\u001b[1;32m      3\u001b[0m trace1 = go.Bar(\n\u001b[0;32m----> 4\u001b[0;31m     \u001b[0mx\u001b[0m \u001b[0;34m=\u001b[0m \u001b[0mmerged_portfolio_sp_latest_YTD_sp_closing_high\u001b[0m\u001b[0;34m[\u001b[0m\u001b[0;34m'Ticker'\u001b[0m\u001b[0;34m]\u001b[0m\u001b[0;34m[\u001b[0m\u001b[0;36m0\u001b[0m\u001b[0;34m:\u001b[0m\u001b[0;36m10\u001b[0m\u001b[0;34m]\u001b[0m\u001b[0;34m,\u001b[0m\u001b[0;34m\u001b[0m\u001b[0;34m\u001b[0m\u001b[0m\n\u001b[0m\u001b[1;32m      5\u001b[0m     \u001b[0my\u001b[0m \u001b[0;34m=\u001b[0m \u001b[0mmerged_portfolio_sp_latest_YTD_sp_closing_high\u001b[0m\u001b[0;34m[\u001b[0m\u001b[0;34m'Pct off High'\u001b[0m\u001b[0;34m]\u001b[0m\u001b[0;34m[\u001b[0m\u001b[0;36m0\u001b[0m\u001b[0;34m:\u001b[0m\u001b[0;36m10\u001b[0m\u001b[0;34m]\u001b[0m\u001b[0;34m,\u001b[0m\u001b[0;34m\u001b[0m\u001b[0;34m\u001b[0m\u001b[0m\n\u001b[1;32m      6\u001b[0m     name = 'Pct off High')\n",
      "\u001b[0;31mNameError\u001b[0m: name 'merged_portfolio_sp_latest_YTD_sp_closing_high' is not defined"
     ]
    }
   ],
   "source": [
    "# Current Share Price versus Closing High Since Purchased\n",
    "import nbformat\n",
    "trace1 = go.Bar(\n",
    "    x = merged_portfolio_sp_latest_YTD_sp_closing_high['Ticker'][0:10],\n",
    "    y = merged_portfolio_sp_latest_YTD_sp_closing_high['Pct off High'][0:10],\n",
    "    name = 'Pct off High')\n",
    "    \n",
    "data = [trace1]\n",
    "\n",
    "layout = go.Layout(title = 'Adj Close % off of High'\n",
    "    , barmode = 'group'\n",
    "    , yaxis=dict(title='% Below Adj Close High', tickformat=\".2%\")\n",
    "    , xaxis=dict(title='Ticker')\n",
    "    , legend=dict(x=.8,y=1)\n",
    "    )\n",
    "\n",
    "fig = go.Figure(data=data, layout=layout)\n",
    "iplot(fig)"
   ]
  },
  {
   "cell_type": "markdown",
   "metadata": {},
   "source": [
    "## Total Return Comparison Charts"
   ]
  },
  {
   "cell_type": "code",
   "execution_count": 30,
   "metadata": {},
   "outputs": [
    {
     "output_type": "error",
     "ename": "NameError",
     "evalue": "name 'merged_portfolio_sp_latest_YTD_sp_closing_high' is not defined",
     "traceback": [
      "\u001b[0;31m---------------------------------------------------------------------------\u001b[0m",
      "\u001b[0;31mNameError\u001b[0m                                 Traceback (most recent call last)",
      "\u001b[0;32m<ipython-input-30-61a6896795b3>\u001b[0m in \u001b[0;36m<module>\u001b[0;34m\u001b[0m\n\u001b[1;32m      1\u001b[0m trace1 = go.Bar(\n\u001b[0;32m----> 2\u001b[0;31m     \u001b[0mx\u001b[0m \u001b[0;34m=\u001b[0m \u001b[0mmerged_portfolio_sp_latest_YTD_sp_closing_high\u001b[0m\u001b[0;34m[\u001b[0m\u001b[0;34m'Ticker'\u001b[0m\u001b[0;34m]\u001b[0m\u001b[0;34m[\u001b[0m\u001b[0;36m0\u001b[0m\u001b[0;34m:\u001b[0m\u001b[0;36m10\u001b[0m\u001b[0;34m]\u001b[0m\u001b[0;34m,\u001b[0m\u001b[0;34m\u001b[0m\u001b[0;34m\u001b[0m\u001b[0m\n\u001b[0m\u001b[1;32m      3\u001b[0m     \u001b[0my\u001b[0m \u001b[0;34m=\u001b[0m \u001b[0mmerged_portfolio_sp_latest_YTD_sp_closing_high\u001b[0m\u001b[0;34m[\u001b[0m\u001b[0;34m'ticker return'\u001b[0m\u001b[0;34m]\u001b[0m\u001b[0;34m[\u001b[0m\u001b[0;36m0\u001b[0m\u001b[0;34m:\u001b[0m\u001b[0;36m10\u001b[0m\u001b[0;34m]\u001b[0m\u001b[0;34m,\u001b[0m\u001b[0;34m\u001b[0m\u001b[0;34m\u001b[0m\u001b[0m\n\u001b[1;32m      4\u001b[0m     name = 'Ticker Total Return')\n\u001b[1;32m      5\u001b[0m \u001b[0;34m\u001b[0m\u001b[0m\n",
      "\u001b[0;31mNameError\u001b[0m: name 'merged_portfolio_sp_latest_YTD_sp_closing_high' is not defined"
     ]
    }
   ],
   "source": [
    "trace1 = go.Bar(\n",
    "    x = merged_portfolio_sp_latest_YTD_sp_closing_high['Ticker'][0:10],\n",
    "    y = merged_portfolio_sp_latest_YTD_sp_closing_high['ticker return'][0:10],\n",
    "    name = 'Ticker Total Return')\n",
    "\n",
    "trace2 = go.Scatter(\n",
    "    x = merged_portfolio_sp_latest_YTD_sp_closing_high['Ticker'][0:10],\n",
    "    y = merged_portfolio_sp_latest_YTD_sp_closing_high['SP Return'][0:10],\n",
    "    name = 'SP500 Total Return')\n",
    "    \n",
    "data = [trace1, trace2]\n",
    "\n",
    "layout = go.Layout(title = 'Total Return vs S&P 500'\n",
    "    , barmode = 'group'\n",
    "    , yaxis=dict(title='Returns', tickformat=\".2%\")\n",
    "    , xaxis=dict(title='Ticker', tickformat=\".2%\")\n",
    "    , legend=dict(x=.8,y=1)\n",
    "    )\n",
    "\n",
    "fig = go.Figure(data=data, layout=layout)\n",
    "iplot(fig)"
   ]
  },
  {
   "cell_type": "markdown",
   "metadata": {
    "collapsed": true
   },
   "source": [
    "## Cumulative Returns Over Time"
   ]
  },
  {
   "cell_type": "code",
   "execution_count": 31,
   "metadata": {},
   "outputs": [
    {
     "output_type": "error",
     "ename": "NameError",
     "evalue": "name 'merged_portfolio_sp_latest_YTD_sp_closing_high' is not defined",
     "traceback": [
      "\u001b[0;31m---------------------------------------------------------------------------\u001b[0m",
      "\u001b[0;31mNameError\u001b[0m                                 Traceback (most recent call last)",
      "\u001b[0;32m<ipython-input-31-cf1f787be58f>\u001b[0m in \u001b[0;36m<module>\u001b[0;34m\u001b[0m\n\u001b[1;32m      1\u001b[0m trace1 = go.Bar(\n\u001b[0;32m----> 2\u001b[0;31m     \u001b[0mx\u001b[0m \u001b[0;34m=\u001b[0m \u001b[0mmerged_portfolio_sp_latest_YTD_sp_closing_high\u001b[0m\u001b[0;34m[\u001b[0m\u001b[0;34m'Ticker'\u001b[0m\u001b[0;34m]\u001b[0m\u001b[0;34m[\u001b[0m\u001b[0;36m0\u001b[0m\u001b[0;34m:\u001b[0m\u001b[0;36m10\u001b[0m\u001b[0;34m]\u001b[0m\u001b[0;34m,\u001b[0m\u001b[0;34m\u001b[0m\u001b[0;34m\u001b[0m\u001b[0m\n\u001b[0m\u001b[1;32m      3\u001b[0m     \u001b[0my\u001b[0m \u001b[0;34m=\u001b[0m \u001b[0mmerged_portfolio_sp_latest_YTD_sp_closing_high\u001b[0m\u001b[0;34m[\u001b[0m\u001b[0;34m'Stock Gain / (Loss)'\u001b[0m\u001b[0;34m]\u001b[0m\u001b[0;34m[\u001b[0m\u001b[0;36m0\u001b[0m\u001b[0;34m:\u001b[0m\u001b[0;36m10\u001b[0m\u001b[0;34m]\u001b[0m\u001b[0;34m,\u001b[0m\u001b[0;34m\u001b[0m\u001b[0;34m\u001b[0m\u001b[0m\n\u001b[1;32m      4\u001b[0m     name = 'Ticker Total Return ($)')\n\u001b[1;32m      5\u001b[0m \u001b[0;34m\u001b[0m\u001b[0m\n",
      "\u001b[0;31mNameError\u001b[0m: name 'merged_portfolio_sp_latest_YTD_sp_closing_high' is not defined"
     ]
    }
   ],
   "source": [
    "trace1 = go.Bar(\n",
    "    x = merged_portfolio_sp_latest_YTD_sp_closing_high['Ticker'][0:10],\n",
    "    y = merged_portfolio_sp_latest_YTD_sp_closing_high['Stock Gain / (Loss)'][0:10],\n",
    "    name = 'Ticker Total Return ($)')\n",
    "\n",
    "trace2 = go.Bar(\n",
    "    x = merged_portfolio_sp_latest_YTD_sp_closing_high['Ticker'][0:10],\n",
    "    y = merged_portfolio_sp_latest_YTD_sp_closing_high['SP 500 Gain / (Loss)'][0:10],\n",
    "    name = 'SP 500 Total Return ($)')\n",
    "\n",
    "trace3 = go.Scatter(\n",
    "    x = merged_portfolio_sp_latest_YTD_sp_closing_high['Ticker'][0:10],\n",
    "    y = merged_portfolio_sp_latest_YTD_sp_closing_high['ticker return'][0:10],\n",
    "    name = 'Ticker Total Return %',\n",
    "    yaxis='y2')\n",
    "\n",
    "data = [trace1, trace2, trace3]\n",
    "\n",
    "layout = go.Layout(title = 'Gain / (Loss) Total Return vs S&P 500'\n",
    "    , barmode = 'group'\n",
    "    , yaxis=dict(title='Gain / (Loss) ($)')\n",
    "    , yaxis2=dict(title='Ticker Return', overlaying='y', side='right', tickformat=\".2%\")\n",
    "    , xaxis=dict(title='Ticker')\n",
    "    , legend=dict(x=.75,y=1)\n",
    "    )\n",
    "\n",
    "fig = go.Figure(data=data, layout=layout)\n",
    "iplot(fig)"
   ]
  },
  {
   "cell_type": "code",
   "execution_count": 32,
   "metadata": {},
   "outputs": [
    {
     "output_type": "error",
     "ename": "NameError",
     "evalue": "name 'merged_portfolio_sp_latest_YTD_sp_closing_high' is not defined",
     "traceback": [
      "\u001b[0;31m---------------------------------------------------------------------------\u001b[0m",
      "\u001b[0;31mNameError\u001b[0m                                 Traceback (most recent call last)",
      "\u001b[0;32m<ipython-input-32-7b48551e2321>\u001b[0m in \u001b[0;36m<module>\u001b[0;34m\u001b[0m\n\u001b[1;32m      1\u001b[0m trace1 = go.Bar(\n\u001b[0;32m----> 2\u001b[0;31m     \u001b[0mx\u001b[0m \u001b[0;34m=\u001b[0m \u001b[0mmerged_portfolio_sp_latest_YTD_sp_closing_high\u001b[0m\u001b[0;34m[\u001b[0m\u001b[0;34m'Ticker'\u001b[0m\u001b[0;34m]\u001b[0m\u001b[0;34m,\u001b[0m\u001b[0;34m\u001b[0m\u001b[0;34m\u001b[0m\u001b[0m\n\u001b[0m\u001b[1;32m      3\u001b[0m     \u001b[0my\u001b[0m \u001b[0;34m=\u001b[0m \u001b[0mmerged_portfolio_sp_latest_YTD_sp_closing_high\u001b[0m\u001b[0;34m[\u001b[0m\u001b[0;34m'Cum Invst'\u001b[0m\u001b[0;34m]\u001b[0m\u001b[0;34m,\u001b[0m\u001b[0;34m\u001b[0m\u001b[0;34m\u001b[0m\u001b[0m\n\u001b[1;32m      4\u001b[0m     \u001b[0;31m# mode = 'lines+markers',\u001b[0m\u001b[0;34m\u001b[0m\u001b[0;34m\u001b[0m\u001b[0;34m\u001b[0m\u001b[0m\n\u001b[1;32m      5\u001b[0m     name = 'Cum Invst')\n",
      "\u001b[0;31mNameError\u001b[0m: name 'merged_portfolio_sp_latest_YTD_sp_closing_high' is not defined"
     ]
    }
   ],
   "source": [
    "trace1 = go.Bar(\n",
    "    x = merged_portfolio_sp_latest_YTD_sp_closing_high['Ticker'],\n",
    "    y = merged_portfolio_sp_latest_YTD_sp_closing_high['Cum Invst'],\n",
    "    # mode = 'lines+markers',\n",
    "    name = 'Cum Invst')\n",
    "\n",
    "trace2 = go.Bar(\n",
    "    x = merged_portfolio_sp_latest_YTD_sp_closing_high['Ticker'],\n",
    "    y = merged_portfolio_sp_latest_YTD_sp_closing_high['Cum SP Returns'],\n",
    "    # mode = 'lines+markers',\n",
    "    name = 'Cum SP500 Returns')\n",
    "\n",
    "trace3 = go.Bar(\n",
    "    x = merged_portfolio_sp_latest_YTD_sp_closing_high['Ticker'],\n",
    "    y = merged_portfolio_sp_latest_YTD_sp_closing_high['Cum Ticker Returns'],\n",
    "    # mode = 'lines+markers',\n",
    "    name = 'Cum Ticker Returns')\n",
    "\n",
    "trace4 = go.Scatter(\n",
    "    x = merged_portfolio_sp_latest_YTD_sp_closing_high['Ticker'],\n",
    "    y = merged_portfolio_sp_latest_YTD_sp_closing_high['Cum Ticker ROI Mult'],\n",
    "    # mode = 'lines+markers',\n",
    "    name = 'Cum ROI Mult'\n",
    "    , yaxis='y2')\n",
    "\n",
    "\n",
    "data = [trace1, trace2, trace3, trace4]\n",
    "\n",
    "layout = go.Layout(title = 'Total Cumulative Investments Over Time'\n",
    "    , barmode = 'group'\n",
    "    , yaxis=dict(title='Returns')\n",
    "    , xaxis=dict(title='Ticker')\n",
    "    , legend=dict(x=.4,y=1)\n",
    "    , yaxis2=dict(title='Cum ROI Mult', overlaying='y', side='right')               \n",
    "    )\n",
    "\n",
    "fig = go.Figure(data=data, layout=layout)\n",
    "iplot(fig)"
   ]
  },
  {
   "cell_type": "code",
   "execution_count": null,
   "metadata": {
    "collapsed": true
   },
   "outputs": [],
   "source": []
  }
 ],
 "metadata": {
  "kernelspec": {
   "display_name": "Python 3.7.7 64-bit ('Test': conda)",
   "language": "python",
   "name": "python37764bittestcondac58852da58f54462b4aa243efbd5773a"
  },
  "language_info": {
   "codemirror_mode": {
    "name": "ipython",
    "version": 2
   },
   "file_extension": ".py",
   "mimetype": "text/x-python",
   "name": "python",
   "nbconvert_exporter": "python",
   "pygments_lexer": "ipython2",
   "version": "3.7.7-final"
  }
 },
 "nbformat": 4,
 "nbformat_minor": 2
}